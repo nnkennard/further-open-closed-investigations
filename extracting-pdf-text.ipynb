{
 "cells": [
  {
   "cell_type": "markdown",
   "id": "172b6957",
   "metadata": {},
   "source": [
    "# Extracting text with Grobid\n",
    "\n",
    "\n",
    "Technically, this isn't an OpenReview snippet, but here's some code to grab text from pdfs, many of which you might have from OpenReview.\n",
    "\n",
    "First, you have to set up Grobid. I'm mostly following [these instructions](https://grobid.readthedocs.io/en/latest/Install-Grobid/)\n",
    "```\n",
    "wget https://github.com/kermitt2/grobid/archive/0.7.1.zip\n",
    "unzip 0.7.1.zip\n",
    "rm 0.7.1.zip\n",
    "```\n",
    "\n",
    "You will need Gradle to run Grobid. I hope that the following works for you, because I don't know other ways to do this :-(\n",
    "```\n",
    "brew install gradle\n",
    "cd grobid-0.7.1/\n",
    "./gradlew clean install\n",
    "cd ../\n",
    "\n",
    "```\n",
    "\n",
    "Create a directory in which you will save the pdfs to be extracted, e.g. `pdfs/`, and a directory where the xml files will be dumped, e.g. `xmls/`:\n",
    "\n",
    "```\n",
    "mkdir pdfs xmls\n",
    "```\n",
    "\n",
    "Copy your pdfs into this directory, then run:\n",
    "\n",
    "```\n",
    "java -Xmx4G -jar grobid-0.7.1/grobid-core/build/libs/grobid-core-0.7.1-onejar.jar \\\n",
    "\t-gH grobid-0.7.1/grobid-home \\\n",
    "\t-dIn pdfs/ \\\n",
    "\t-dOut xmls/ \\\n",
    "\t-exe processFullText \n",
    "```\n",
    "\n",
    "Below is example code for extracting the section headers and text from a pdf."
   ]
  },
  {
   "cell_type": "code",
   "execution_count": null,
   "id": "9196ce5f",
   "metadata": {},
   "outputs": [],
   "source": [
    "import glob\n",
    "\n",
    "import xml.etree.ElementTree as ET\n",
    "\n",
    "PREFIX = \"{http://www.tei-c.org/ns/1.0}\"\n",
    "TEXT_ID = f\"{PREFIX}text\"\n",
    "BODY_ID = f\"{PREFIX}body\"\n",
    "DIV_ID = f\"{PREFIX}div\"\n",
    "HEAD_ID = f\"{PREFIX}head\"\n",
    "P_ID = f\"{PREFIX}p\"\n",
    "\n",
    "\n",
    "def get_docs(filename):\n",
    "  section_titles = []\n",
    "  section_texts = []\n",
    "  divs = ET.parse(filename).getroot().findall(\n",
    "    TEXT_ID)[0].findall(BODY_ID)[0].findall(DIV_ID)\n",
    "  for div in divs:\n",
    "    header_node, = div.findall(HEAD_ID)\n",
    "    section_titles.append(header_node.text)\n",
    "    text = \"\"\n",
    "    for p in div.findall(P_ID):\n",
    "      text += \" \".join(p.itertext())\n",
    "    section_texts.append(text)\n",
    "  return section_titles, section_texts\n",
    "\n",
    "\n",
    "for filename in glob.glob(\"xmls/*\"):\n",
    "  sections, texts = get_docs(filename)\n",
    "  for section, text in zip(sections, texts):\n",
    "    print(section)\n",
    "    print(text[:500] + \"...\")\n",
    "    print()\n"
   ]
  },
  {
   "cell_type": "markdown",
   "id": "990eaee0",
   "metadata": {},
   "source": [
    "# Extracting quotes with pdfalto\n",
    "\n",
    "This requires you to install [pdfalto](https://github.com/kermitt2/pdfalto). This can be quite complicated. Also, I personally have not been able to get this to work. The fonts are somehow different between manuscripts at the same venue using the same template.\n",
    "\n",
    "Anyway, if you have pdfalto installed in the ccurrent directory, do\n",
    "\n",
    "```\n",
    "cd pdfalto\n",
    "./pdfalto /path/to/input.pdf temp.xml\n",
    "```\n",
    "\n",
    "then the code below will work (once you add the correct tests to select italics styles). I recommend using [an XML viewer](https://codebeautify.org/xmlviewer) to browse the xml file and figure out which styles apply to the content you want to extract."
   ]
  },
  {
   "cell_type": "code",
   "execution_count": null,
   "id": "ecb5d7f3",
   "metadata": {},
   "outputs": [],
   "source": [
    "root =   ET.parse('pdfalto/temp.xml').getroot()"
   ]
  },
  {
   "cell_type": "code",
   "execution_count": null,
   "id": "0dad74ac",
   "metadata": {},
   "outputs": [],
   "source": [
    "PREFIX = '{http://www.loc.gov/standards/alto/ns-v3#}'\n",
    "STYLES = f'{PREFIX}Styles'\n",
    "TEXTSTYLE = f'{PREFIX}TextStyle'\n",
    "LAYOUT = f'{PREFIX}Layout'\n",
    "PAGE = f'{PREFIX}Page'\n",
    "TEXT_BLOCK = f'{PREFIX}TextBlock'\n",
    "STRING = f'{PREFIX}String'"
   ]
  },
  {
   "cell_type": "code",
   "execution_count": null,
   "id": "fe23bdfd",
   "metadata": {},
   "outputs": [],
   "source": [
    "italics_styles = []\n",
    "for style_child in root.findall(STYLES)[0].findall(TEXTSTYLE):\n",
    "  # Uncomment to print all styles\n",
    "  # print(style_child.attrib)\n",
    "  if \"i9\" in style_child.attrib[\"FONTFAMILY\"]: # You will need a different test for your document\n",
    "    italics_styles.append(style_child.attrib[\"ID\"])"
   ]
  },
  {
   "cell_type": "code",
   "execution_count": null,
   "id": "ac1bfa0c",
   "metadata": {},
   "outputs": [],
   "source": [
    "for page in root.findall(LAYOUT)[0].findall(PAGE):\n",
    "  for print_space in page:\n",
    "    for text_block in print_space.findall(TEXT_BLOCK):\n",
    "      for text_line in text_block:\n",
    "        flag = False\n",
    "        for string in text_line.findall(STRING):\n",
    "          if string.attrib['STYLEREFS'] in italics_styles or 'FONTSTYLE' in string.attrib and string.attrib['FONTSTYLE'] == 'italics':\n",
    "            print(string.attrib[\"CONTENT\"], end=\" \")\n",
    "            flag = True\n",
    "        if flag:\n",
    "          print(\"\\n\")"
   ]
  },
  {
   "cell_type": "markdown",
   "id": "c768ace0",
   "metadata": {},
   "source": [
    "### Extract an abstract"
   ]
  },
  {
   "cell_type": "code",
   "execution_count": null,
   "id": "74996934",
   "metadata": {},
   "outputs": [],
   "source": [
    "HEADER_ID = f\"{PREFIX}teiHeader\"\n",
    "PROFILE_ID = f\"{PREFIX}profileDesc\"\n",
    "ABSTRACT_ID = f\"{PREFIX}abstract\"\n",
    "\n",
    "def get_abstract(filename):\n",
    "    abstract = \"\"\n",
    "    for j in ET.parse(filename).getroot().findall(HEADER_ID)[0].findall(PROFILE_ID)[0]:\n",
    "        if j.tag == ABSTRACT_ID: #have trouble searching to ABSTRACT_ID in line above; iterating works \n",
    "            \n",
    "            for div in j:\n",
    "                for p in div.findall(P_ID):\n",
    "                    abstract = abstract + \"\".join(p.itertext())\n",
    "    return abstract"
   ]
  }
 ],
 "metadata": {
  "kernelspec": {
   "display_name": "Python 3 (ipykernel)",
   "language": "python",
   "name": "python3"
  },
  "language_info": {
   "codemirror_mode": {
    "name": "ipython",
    "version": 3
   },
   "file_extension": ".py",
   "mimetype": "text/x-python",
   "name": "python",
   "nbconvert_exporter": "python",
   "pygments_lexer": "ipython3",
   "version": "3.8.3"
  }
 },
 "nbformat": 4,
 "nbformat_minor": 5
}
