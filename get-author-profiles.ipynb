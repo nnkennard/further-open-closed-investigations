{
 "cells": [
  {
   "cell_type": "code",
   "execution_count": null,
   "id": "7bfbd304",
   "metadata": {},
   "outputs": [],
   "source": [
    "import collections\n",
    "import openreview\n",
    "import tqdm\n",
    "\n",
    "# Change these values according to your needs\n",
    "INVITATION = 'ICLR.cc/2019/Conference/-/Blind_Submission'\n",
    "# A client is required for any OpenReview API actions\n",
    "guest_client = openreview.Client(baseurl='https://api.openreview.net')\n",
    "LIMIT = 400\n",
    "\n",
    "authors = {}\n",
    "author_count = collections.Counter()\n",
    "for i, forum_note in tqdm.tqdm(enumerate(openreview.tools.iterget_notes(\n",
    "        guest_client, invitation=INVITATION))):\n",
    "    for author in forum_note.content['authorids']:\n",
    "      author_count[author] += 1\n",
    "      if author not in authors:\n",
    "        authors[author] = openreview.tools.get_profile(guest_client, author)\n",
    "    if len(authors) > LIMIT:\n",
    "      break"
   ]
  }
 ],
 "metadata": {
  "kernelspec": {
   "display_name": "Python 3 (ipykernel)",
   "language": "python",
   "name": "python3"
  },
  "language_info": {
   "codemirror_mode": {
    "name": "ipython",
    "version": 3
   },
   "file_extension": ".py",
   "mimetype": "text/x-python",
   "name": "python",
   "nbconvert_exporter": "python",
   "pygments_lexer": "ipython3",
   "version": "3.9.12"
  }
 },
 "nbformat": 4,
 "nbformat_minor": 5
}
