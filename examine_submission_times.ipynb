{
 "cells": [
  {
   "cell_type": "code",
   "execution_count": 1,
   "id": "15bb5ef0",
   "metadata": {},
   "outputs": [],
   "source": [
    "from datetime import datetime\n",
    "import openreview\n",
    "import os\n",
    "import tqdm\n",
    "import seaborn as sns\n",
    "import pandas as pd\n",
    "from IPython.display import display, HTML\n",
    "\n",
    "# A client is required for any OpenReview API actions\n",
    "guest_client = openreview.Client(baseurl='https://api.openreview.net')"
   ]
  },
  {
   "cell_type": "code",
   "execution_count": 2,
   "id": "7717e231",
   "metadata": {},
   "outputs": [],
   "source": [
    "START_OF_2022 = 1640995200000\n",
    "\n",
    "def plot_submission_times(guest_client, year):\n",
    "    invitation = f'ICLR.cc/{year}/Conference/-/Blind_Submission'\n",
    "    tmdates = []\n",
    "    for i, forum_note in tqdm.tqdm(enumerate(openreview.tools.iterget_notes(\n",
    "            guest_client, invitation=invitation))):\n",
    "        for revision in guest_client.get_references(\n",
    "                referent=forum_note.id, original=True):\n",
    "          if revision.tmdate > START_OF_2022:\n",
    "            continue\n",
    "          else:\n",
    "            tmdates.append(revision.tmdate)\n",
    "    \n",
    "    sorted_tmdates = sorted(tmdates)\n",
    "    tmdate_differences = []\n",
    "    for tmdate, next_tmdate in zip(sorted_tmdates[:-1], sorted_tmdates[1:]):\n",
    "      diff = next_tmdate - tmdate\n",
    "      tmdate_differences.append((diff, tmdate))\n",
    "      \n",
    "    sorted_differences = sorted(tmdate_differences, reverse=True)[:10]\n",
    "    sorted_differences_dicts = []\n",
    "    for difference, start_time in sorted_differences:\n",
    "      sorted_differences_dicts.append(\n",
    "        {\"diff in seconds\": difference,\n",
    "         \"gap start timestamp\": start_time,\n",
    "         \"gap end timestamp\": start_time + difference,\n",
    "         \"gap start date\": datetime.fromtimestamp(start_time/1000).strftime(\"%Y-%m-%d\")})\n",
    "    \n",
    "    sns.histplot(tmdates, bins=50)\n",
    "    \n",
    "    display(HTML(pd.DataFrame.from_dict(sorted_differences_dicts).to_html()))\n"
   ]
  },
  {
   "cell_type": "code",
   "execution_count": 3,
   "id": "8d465d2f",
   "metadata": {},
   "outputs": [
    {
     "name": "stderr",
     "output_type": "stream",
     "text": [
      "911it [03:19,  4.58it/s]\n"
     ]
    },
    {
     "data": {
      "text/html": [
       "<table border=\"1\" class=\"dataframe\">\n",
       "  <thead>\n",
       "    <tr style=\"text-align: right;\">\n",
       "      <th></th>\n",
       "      <th>diff in seconds</th>\n",
       "      <th>gap start timestamp</th>\n",
       "      <th>gap end timestamp</th>\n",
       "      <th>gap start date</th>\n",
       "    </tr>\n",
       "  </thead>\n",
       "  <tbody>\n",
       "    <tr>\n",
       "      <th>0</th>\n",
       "      <td>70558492885</td>\n",
       "      <td>1546570475487</td>\n",
       "      <td>1617128968372</td>\n",
       "      <td>2019-01-03</td>\n",
       "    </tr>\n",
       "    <tr>\n",
       "      <th>1</th>\n",
       "      <td>4385080136</td>\n",
       "      <td>1540802466059</td>\n",
       "      <td>1545187546195</td>\n",
       "      <td>2018-10-29</td>\n",
       "    </tr>\n",
       "    <tr>\n",
       "      <th>2</th>\n",
       "      <td>3017994777</td>\n",
       "      <td>1537784471282</td>\n",
       "      <td>1540802466059</td>\n",
       "      <td>2018-09-24</td>\n",
       "    </tr>\n",
       "    <tr>\n",
       "      <th>3</th>\n",
       "      <td>2336937093</td>\n",
       "      <td>1509629473059</td>\n",
       "      <td>1511966410152</td>\n",
       "      <td>2017-11-02</td>\n",
       "    </tr>\n",
       "    <tr>\n",
       "      <th>4</th>\n",
       "      <td>2086390477</td>\n",
       "      <td>1535698080805</td>\n",
       "      <td>1537784471282</td>\n",
       "      <td>2018-08-31</td>\n",
       "    </tr>\n",
       "    <tr>\n",
       "      <th>5</th>\n",
       "      <td>1861823930</td>\n",
       "      <td>1532340029643</td>\n",
       "      <td>1534201853573</td>\n",
       "      <td>2018-07-23</td>\n",
       "    </tr>\n",
       "    <tr>\n",
       "      <th>6</th>\n",
       "      <td>1382929292</td>\n",
       "      <td>1545187546195</td>\n",
       "      <td>1546570475487</td>\n",
       "      <td>2018-12-18</td>\n",
       "    </tr>\n",
       "    <tr>\n",
       "      <th>7</th>\n",
       "      <td>1206225375</td>\n",
       "      <td>1529315426322</td>\n",
       "      <td>1530521651697</td>\n",
       "      <td>2018-06-18</td>\n",
       "    </tr>\n",
       "    <tr>\n",
       "      <th>8</th>\n",
       "      <td>1111157269</td>\n",
       "      <td>1525715217217</td>\n",
       "      <td>1526826374486</td>\n",
       "      <td>2018-05-07</td>\n",
       "    </tr>\n",
       "    <tr>\n",
       "      <th>9</th>\n",
       "      <td>1095795411</td>\n",
       "      <td>1530855361726</td>\n",
       "      <td>1531951157137</td>\n",
       "      <td>2018-07-06</td>\n",
       "    </tr>\n",
       "  </tbody>\n",
       "</table>"
      ],
      "text/plain": [
       "<IPython.core.display.HTML object>"
      ]
     },
     "metadata": {},
     "output_type": "display_data"
    },
    {
     "data": {
      "image/png": "[encoded data removed]",
      "text/plain": [
       "<Figure size 432x288 with 1 Axes>"
      ]
     },
     "metadata": {
      "needs_background": "light"
     },
     "output_type": "display_data"
    }
   ],
   "source": [
    "plot_submission_times(guest_client, \"2018\")"
   ]
  },
  {
   "cell_type": "code",
   "execution_count": 4,
   "id": "d9659a62",
   "metadata": {},
   "outputs": [
    {
     "name": "stderr",
     "output_type": "stream",
     "text": [
      "1419it [05:20,  4.43it/s]\n"
     ]
    },
    {
     "data": {
      "text/html": [
       "<table border=\"1\" class=\"dataframe\">\n",
       "  <thead>\n",
       "    <tr style=\"text-align: right;\">\n",
       "      <th></th>\n",
       "      <th>diff in seconds</th>\n",
       "      <th>gap start timestamp</th>\n",
       "      <th>gap end timestamp</th>\n",
       "      <th>gap start date</th>\n",
       "    </tr>\n",
       "  </thead>\n",
       "  <tbody>\n",
       "    <tr>\n",
       "      <th>0</th>\n",
       "      <td>2499207031</td>\n",
       "      <td>1572553935011</td>\n",
       "      <td>1575053142042</td>\n",
       "      <td>2019-10-31</td>\n",
       "    </tr>\n",
       "    <tr>\n",
       "      <th>1</th>\n",
       "      <td>2003124153</td>\n",
       "      <td>1569425369978</td>\n",
       "      <td>1571428494131</td>\n",
       "      <td>2019-09-25</td>\n",
       "    </tr>\n",
       "    <tr>\n",
       "      <th>2</th>\n",
       "      <td>1801711718</td>\n",
       "      <td>1567618912215</td>\n",
       "      <td>1569420623933</td>\n",
       "      <td>2019-09-04</td>\n",
       "    </tr>\n",
       "    <tr>\n",
       "      <th>3</th>\n",
       "      <td>1760617436</td>\n",
       "      <td>1575053142042</td>\n",
       "      <td>1576813759478</td>\n",
       "      <td>2019-11-29</td>\n",
       "    </tr>\n",
       "    <tr>\n",
       "      <th>4</th>\n",
       "      <td>1735752010</td>\n",
       "      <td>1565206845351</td>\n",
       "      <td>1566942597361</td>\n",
       "      <td>2019-08-07</td>\n",
       "    </tr>\n",
       "    <tr>\n",
       "      <th>5</th>\n",
       "      <td>1523176255</td>\n",
       "      <td>1576813759478</td>\n",
       "      <td>1578336935733</td>\n",
       "      <td>2019-12-19</td>\n",
       "    </tr>\n",
       "    <tr>\n",
       "      <th>6</th>\n",
       "      <td>1516039521</td>\n",
       "      <td>1543840239376</td>\n",
       "      <td>1545356278897</td>\n",
       "      <td>2018-12-03</td>\n",
       "    </tr>\n",
       "    <tr>\n",
       "      <th>7</th>\n",
       "      <td>1228670072</td>\n",
       "      <td>1563978175279</td>\n",
       "      <td>1565206845351</td>\n",
       "      <td>2019-07-24</td>\n",
       "    </tr>\n",
       "    <tr>\n",
       "      <th>8</th>\n",
       "      <td>1134086818</td>\n",
       "      <td>1540327354118</td>\n",
       "      <td>1541461440936</td>\n",
       "      <td>2018-10-23</td>\n",
       "    </tr>\n",
       "    <tr>\n",
       "      <th>9</th>\n",
       "      <td>1125331096</td>\n",
       "      <td>1571428603915</td>\n",
       "      <td>1572553935011</td>\n",
       "      <td>2019-10-18</td>\n",
       "    </tr>\n",
       "  </tbody>\n",
       "</table>"
      ],
      "text/plain": [
       "<IPython.core.display.HTML object>"
      ]
     },
     "metadata": {},
     "output_type": "display_data"
    },
    {
     "data": {
      "image/png": "[encoded data removed]",
      "text/plain": [
       "<Figure size 432x288 with 1 Axes>"
      ]
     },
     "metadata": {
      "needs_background": "light"
     },
     "output_type": "display_data"
    }
   ],
   "source": [
    "plot_submission_times(guest_client, \"2019\")"
   ]
  },
  {
   "cell_type": "code",
   "execution_count": 5,
   "id": "4f9b9b42",
   "metadata": {},
   "outputs": [
    {
     "name": "stderr",
     "output_type": "stream",
     "text": [
      "2213it [08:05,  4.56it/s]\n"
     ]
    },
    {
     "data": {
      "text/html": [
       "<table border=\"1\" class=\"dataframe\">\n",
       "  <thead>\n",
       "    <tr style=\"text-align: right;\">\n",
       "      <th></th>\n",
       "      <th>diff in seconds</th>\n",
       "      <th>gap start timestamp</th>\n",
       "      <th>gap end timestamp</th>\n",
       "      <th>gap start date</th>\n",
       "    </tr>\n",
       "  </thead>\n",
       "  <tbody>\n",
       "    <tr>\n",
       "      <th>0</th>\n",
       "      <td>7647224617</td>\n",
       "      <td>1618906987417</td>\n",
       "      <td>1626554212034</td>\n",
       "      <td>2021-04-20</td>\n",
       "    </tr>\n",
       "    <tr>\n",
       "      <th>1</th>\n",
       "      <td>5277351853</td>\n",
       "      <td>1608862909594</td>\n",
       "      <td>1614140261447</td>\n",
       "      <td>2020-12-24</td>\n",
       "    </tr>\n",
       "    <tr>\n",
       "      <th>2</th>\n",
       "      <td>2611970308</td>\n",
       "      <td>1606250939286</td>\n",
       "      <td>1608862909594</td>\n",
       "      <td>2020-11-24</td>\n",
       "    </tr>\n",
       "    <tr>\n",
       "      <th>3</th>\n",
       "      <td>2160159780</td>\n",
       "      <td>1614141755058</td>\n",
       "      <td>1616301914838</td>\n",
       "      <td>2021-02-23</td>\n",
       "    </tr>\n",
       "    <tr>\n",
       "      <th>4</th>\n",
       "      <td>2051089317</td>\n",
       "      <td>1629884052202</td>\n",
       "      <td>1631935141519</td>\n",
       "      <td>2021-08-25</td>\n",
       "    </tr>\n",
       "    <tr>\n",
       "      <th>5</th>\n",
       "      <td>2028679561</td>\n",
       "      <td>1627855287530</td>\n",
       "      <td>1629883967091</td>\n",
       "      <td>2021-08-01</td>\n",
       "    </tr>\n",
       "    <tr>\n",
       "      <th>6</th>\n",
       "      <td>1774482417</td>\n",
       "      <td>1595003893701</td>\n",
       "      <td>1596778376118</td>\n",
       "      <td>2020-07-17</td>\n",
       "    </tr>\n",
       "    <tr>\n",
       "      <th>7</th>\n",
       "      <td>1731989285</td>\n",
       "      <td>1575078733458</td>\n",
       "      <td>1576810722743</td>\n",
       "      <td>2019-11-29</td>\n",
       "    </tr>\n",
       "    <tr>\n",
       "      <th>8</th>\n",
       "      <td>1546894238</td>\n",
       "      <td>1569620257810</td>\n",
       "      <td>1571167152048</td>\n",
       "      <td>2019-09-27</td>\n",
       "    </tr>\n",
       "    <tr>\n",
       "      <th>9</th>\n",
       "      <td>1544668668</td>\n",
       "      <td>1571428972960</td>\n",
       "      <td>1572973641628</td>\n",
       "      <td>2019-10-18</td>\n",
       "    </tr>\n",
       "  </tbody>\n",
       "</table>"
      ],
      "text/plain": [
       "<IPython.core.display.HTML object>"
      ]
     },
     "metadata": {},
     "output_type": "display_data"
    },
    {
     "data": {
      "image/png": "[encoded data removed]",
      "text/plain": [
       "<Figure size 432x288 with 1 Axes>"
      ]
     },
     "metadata": {
      "needs_background": "light"
     },
     "output_type": "display_data"
    }
   ],
   "source": [
    "plot_submission_times(guest_client, \"2020\")"
   ]
  },
  {
   "cell_type": "code",
   "execution_count": 6,
   "id": "0e7ceadb",
   "metadata": {},
   "outputs": [
    {
     "name": "stderr",
     "output_type": "stream",
     "text": [
      "2595it [09:27,  4.57it/s]\n"
     ]
    },
    {
     "data": {
      "text/html": [
       "<table border=\"1\" class=\"dataframe\">\n",
       "  <thead>\n",
       "    <tr style=\"text-align: right;\">\n",
       "      <th></th>\n",
       "      <th>diff in seconds</th>\n",
       "      <th>gap start timestamp</th>\n",
       "      <th>gap end timestamp</th>\n",
       "      <th>gap start date</th>\n",
       "    </tr>\n",
       "  </thead>\n",
       "  <tbody>\n",
       "    <tr>\n",
       "      <th>0</th>\n",
       "      <td>3957129270</td>\n",
       "      <td>1635170324643</td>\n",
       "      <td>1639127453913</td>\n",
       "      <td>2021-10-25</td>\n",
       "    </tr>\n",
       "    <tr>\n",
       "      <th>1</th>\n",
       "      <td>2406163965</td>\n",
       "      <td>1625510296116</td>\n",
       "      <td>1627916460081</td>\n",
       "      <td>2021-07-05</td>\n",
       "    </tr>\n",
       "    <tr>\n",
       "      <th>2</th>\n",
       "      <td>2312923167</td>\n",
       "      <td>1608232628370</td>\n",
       "      <td>1610545551537</td>\n",
       "      <td>2020-12-17</td>\n",
       "    </tr>\n",
       "    <tr>\n",
       "      <th>3</th>\n",
       "      <td>2145332021</td>\n",
       "      <td>1633024992622</td>\n",
       "      <td>1635170324643</td>\n",
       "      <td>2021-09-30</td>\n",
       "    </tr>\n",
       "    <tr>\n",
       "      <th>4</th>\n",
       "      <td>1911782742</td>\n",
       "      <td>1603113737752</td>\n",
       "      <td>1605025520494</td>\n",
       "      <td>2020-10-19</td>\n",
       "    </tr>\n",
       "    <tr>\n",
       "      <th>5</th>\n",
       "      <td>945575376</td>\n",
       "      <td>1629046840363</td>\n",
       "      <td>1629992415739</td>\n",
       "      <td>2021-08-15</td>\n",
       "    </tr>\n",
       "    <tr>\n",
       "      <th>6</th>\n",
       "      <td>914283737</td>\n",
       "      <td>1629992415739</td>\n",
       "      <td>1630906699476</td>\n",
       "      <td>2021-08-26</td>\n",
       "    </tr>\n",
       "    <tr>\n",
       "      <th>7</th>\n",
       "      <td>873790555</td>\n",
       "      <td>1628173049808</td>\n",
       "      <td>1629046840363</td>\n",
       "      <td>2021-08-05</td>\n",
       "    </tr>\n",
       "    <tr>\n",
       "      <th>8</th>\n",
       "      <td>746406853</td>\n",
       "      <td>1606343272656</td>\n",
       "      <td>1607089679509</td>\n",
       "      <td>2020-11-25</td>\n",
       "    </tr>\n",
       "    <tr>\n",
       "      <th>9</th>\n",
       "      <td>706215864</td>\n",
       "      <td>1624508916512</td>\n",
       "      <td>1625215132376</td>\n",
       "      <td>2021-06-24</td>\n",
       "    </tr>\n",
       "  </tbody>\n",
       "</table>"
      ],
      "text/plain": [
       "<IPython.core.display.HTML object>"
      ]
     },
     "metadata": {},
     "output_type": "display_data"
    },
    {
     "data": {
      "image/png": "[encoded data removed]",
      "text/plain": [
       "<Figure size 432x288 with 1 Axes>"
      ]
     },
     "metadata": {
      "needs_background": "light"
     },
     "output_type": "display_data"
    }
   ],
   "source": [
    "plot_submission_times(guest_client, \"2021\")"
   ]
  },
  {
   "cell_type": "code",
   "execution_count": null,
   "id": "9f9896d3",
   "metadata": {},
   "outputs": [
    {
     "name": "stderr",
     "output_type": "stream",
     "text": [
      "2494it [09:05,  4.60it/s]"
     ]
    }
   ],
   "source": [
    "plot_submission_times(guest_client, \"2022\")"
   ]
  }
 ],
 "metadata": {
  "kernelspec": {
   "display_name": "Python 3 (ipykernel)",
   "language": "python",
   "name": "python3"
  },
  "language_info": {
   "codemirror_mode": {
    "name": "ipython",
    "version": 3
   },
   "file_extension": ".py",
   "mimetype": "text/x-python",
   "name": "python",
   "nbconvert_exporter": "python",
   "pygments_lexer": "ipython3",
   "version": "3.9.14"
  }
 },
 "nbformat": 4,
 "nbformat_minor": 5
}
