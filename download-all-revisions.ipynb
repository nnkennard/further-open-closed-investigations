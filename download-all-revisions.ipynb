{
 "cells": [
  {
   "cell_type": "markdown",
   "id": "877a9ba0",
   "metadata": {},
   "source": [
    "# Download all manuscript revisions\n",
    "\n",
    "## Description\n",
    "Given an OpenReview invitation, download pdfs of all its manuscripts, including all their revisions.\n",
    "\n",
    "## Notes\n",
    "* I don't know what the significance of the different versions are, in particular which is the one considered for peer review, which is the camera ready version, which version is the 'main' version in the forum -- I just got the main/reference distinction from the API.\n",
    "* You may have to do some kind of rate limiting thing in order to not get in trouble with the OpenReview API. I haven't tested this with `LIMIT > 10`.\n",
    "* Don't be alarmed if filenames appear like `main_2018-09-28T04/08/02.pdf` in Finder on your mac -- that's just a bug in Finder with displaying `:` in filenames."
   ]
  },
  {
   "cell_type": "code",
   "execution_count": 1,
   "id": "6e4a8f7b",
   "metadata": {},
   "outputs": [],
   "source": [
    "from datetime import datetime\n",
    "import openreview\n",
    "import os\n",
    "import tqdm\n",
    "\n",
    "# Change these values according to your needs\n",
    "INVITATION = 'ICLR.cc/2019/Conference/-/Blind_Submission'\n",
    "OUTPUT_DIR = \"./ICLR2019_pdfs\"\n",
    "LIMIT = 10 # Number of papers to download all revisions for\n",
    "\n",
    "# A client is required for any OpenReview API actions\n",
    "guest_client = openreview.Client(baseurl='https://api.openreview.net')"
   ]
  },
  {
   "cell_type": "code",
   "execution_count": 2,
   "id": "3a78bd19",
   "metadata": {},
   "outputs": [],
   "source": [
    "def get_pdf_filename(forum_dir, timestamp, is_reference):\n",
    "    \"\"\"Produce a filename for the pdf with a human readable timestamp.\n",
    "    \n",
    "        Args:\n",
    "            forum_dir: Directory to write pdfs to\n",
    "            timestamp: Unix timestamp from note.tcdate in OR Note object\n",
    "            is_reference: follows is_reference value of OR API.\n",
    "        \n",
    "        Returns:\n",
    "            pdf filename with timestamps in forum_dir\n",
    "    \"\"\"\n",
    "    nice_timestamp = datetime.fromtimestamp(\n",
    "        timestamp/1000).strftime('%Y-%m-%dT%H_%M_%S') # Something human-readable for the file name\n",
    "    if is_reference:\n",
    "        main_or_revision =  \"revision\"\n",
    "    else:\n",
    "        main_or_revision =  \"main\"\n",
    "    return forum_dir + \"/{0}_{1}.pdf\".format(main_or_revision, nice_timestamp)\n",
    "\n",
    "def write_pdf_to_file(guest_client, forum_dir, note):\n",
    "    \"\"\"Get pdf of manuscript and write to an appropriately named file.\n",
    "        Args:\n",
    "            guest_client: OR API client\n",
    "            forum_dir: Directory to write pdfs to\n",
    "            note: OR API Note object\n",
    "        Returns:\n",
    "            None\n",
    "    \"\"\"\n",
    "    is_reference = not (note.id == note.forum)\n",
    "    print(forum_dir, note.id)\n",
    "    pdf_binary = guest_client.get_pdf(note.id, is_reference=is_reference)\n",
    "    with open(get_pdf_filename(forum_dir, note.tcdate, is_reference), 'wb') as file_handle:\n",
    "        file_handle.write(pdf_binary)"
   ]
  },
  {
   "cell_type": "code",
   "execution_count": 3,
   "id": "43207439",
   "metadata": {},
   "outputs": [
    {
     "name": "stdout",
     "output_type": "stream",
     "text": [
      "./ICLR2019_pdfs/rJl0r3R9KX rJl0r3R9KX\n"
     ]
    },
    {
     "name": "stderr",
     "output_type": "stream",
     "text": [
      "\r",
      "Getting revisions for rJl0r3R9KX:   0%|                                                                                                                                             | 0/8 [00:00<?, ?it/s]"
     ]
    },
    {
     "name": "stdout",
     "output_type": "stream",
     "text": [
      "./ICLR2019_pdfs/rJl0r3R9KX rtZtjY_fk9\n"
     ]
    },
    {
     "name": "stderr",
     "output_type": "stream",
     "text": [
      "\r",
      "Getting revisions for rJl0r3R9KX:  12%|████████████████▋                                                                                                                    | 1/8 [00:00<00:01,  4.39it/s]"
     ]
    },
    {
     "name": "stdout",
     "output_type": "stream",
     "text": [
      "./ICLR2019_pdfs/rJl0r3R9KX BkaTYNRS4\n"
     ]
    },
    {
     "name": "stderr",
     "output_type": "stream",
     "text": [
      "\r",
      "Getting revisions for rJl0r3R9KX:  25%|█████████████████████████████████▎                                                                                                   | 2/8 [00:00<00:02,  2.13it/s]"
     ]
    },
    {
     "name": "stdout",
     "output_type": "stream",
     "text": [
      "./ICLR2019_pdfs/rJl0r3R9KX rkXUYERSN\n"
     ]
    },
    {
     "name": "stderr",
     "output_type": "stream",
     "text": [
      "\r",
      "Getting revisions for rJl0r3R9KX:  38%|█████████████████████████████████████████████████▉                                                                                   | 3/8 [00:01<00:02,  1.82it/s]"
     ]
    },
    {
     "name": "stdout",
     "output_type": "stream",
     "text": [
      "./ICLR2019_pdfs/rJl0r3R9KX BJVDsE367\n"
     ]
    },
    {
     "name": "stderr",
     "output_type": "stream",
     "text": [
      "\r",
      "Getting revisions for rJl0r3R9KX:  50%|██████████████████████████████████████████████████████████████████▌                                                                  | 4/8 [00:02<00:02,  1.75it/s]"
     ]
    },
    {
     "name": "stdout",
     "output_type": "stream",
     "text": [
      "./ICLR2019_pdfs/rJl0r3R9KX ByCx70sam\n"
     ]
    },
    {
     "name": "stderr",
     "output_type": "stream",
     "text": [
      "\r",
      "Getting revisions for rJl0r3R9KX:  62%|███████████████████████████████████████████████████████████████████████████████████▏                                                 | 5/8 [00:02<00:01,  1.71it/s]"
     ]
    },
    {
     "name": "stdout",
     "output_type": "stream",
     "text": [
      "./ICLR2019_pdfs/rJl0r3R9KX ry79jm5pQ\n"
     ]
    },
    {
     "name": "stderr",
     "output_type": "stream",
     "text": [
      "\r",
      "Getting revisions for rJl0r3R9KX:  75%|███████████████████████████████████████████████████████████████████████████████████████████████████▊                                 | 6/8 [00:03<00:01,  1.69it/s]"
     ]
    },
    {
     "name": "stdout",
     "output_type": "stream",
     "text": [
      "./ICLR2019_pdfs/rJl0r3R9KX Sk_lKX9Tm\n"
     ]
    },
    {
     "name": "stderr",
     "output_type": "stream",
     "text": [
      "\r",
      "Getting revisions for rJl0r3R9KX:  88%|████████████████████████████████████████████████████████████████████████████████████████████████████████████████████▍                | 7/8 [00:03<00:00,  1.70it/s]"
     ]
    },
    {
     "name": "stdout",
     "output_type": "stream",
     "text": [
      "./ICLR2019_pdfs/rJl0r3R9KX BJpIR25YX\n"
     ]
    },
    {
     "name": "stderr",
     "output_type": "stream",
     "text": [
      "Getting revisions for rJl0r3R9KX: 100%|█████████████████████████████████████████████████████████████████████████████████████████████████████████████████████████████████████| 8/8 [00:04<00:00,  1.78it/s]\n"
     ]
    },
    {
     "name": "stdout",
     "output_type": "stream",
     "text": [
      "./ICLR2019_pdfs/SylCrnCcFX SylCrnCcFX\n"
     ]
    },
    {
     "name": "stderr",
     "output_type": "stream",
     "text": [
      "\r",
      "Getting revisions for SylCrnCcFX:   0%|                                                                                                                                            | 0/10 [00:00<?, ?it/s]"
     ]
    },
    {
     "name": "stdout",
     "output_type": "stream",
     "text": [
      "./ICLR2019_pdfs/SylCrnCcFX rZ4W1cOzJ5\n"
     ]
    },
    {
     "name": "stderr",
     "output_type": "stream",
     "text": [
      "\r",
      "Getting revisions for SylCrnCcFX:  10%|█████████████▏                                                                                                                      | 1/10 [00:00<00:01,  4.65it/s]"
     ]
    },
    {
     "name": "stdout",
     "output_type": "stream",
     "text": [
      "./ICLR2019_pdfs/SylCrnCcFX SJd008eUE\n"
     ]
    },
    {
     "name": "stderr",
     "output_type": "stream",
     "text": [
      "\r",
      "Getting revisions for SylCrnCcFX:  20%|██████████████████████████▍                                                                                                         | 2/10 [00:01<00:04,  1.70it/s]"
     ]
    },
    {
     "name": "stdout",
     "output_type": "stream",
     "text": [
      "./ICLR2019_pdfs/SylCrnCcFX r1V_Zj184\n"
     ]
    },
    {
     "name": "stderr",
     "output_type": "stream",
     "text": [
      "\r",
      "Getting revisions for SylCrnCcFX:  30%|███████████████████████████████████████▌                                                                                            | 3/10 [00:01<00:04,  1.42it/s]"
     ]
    },
    {
     "name": "stdout",
     "output_type": "stream",
     "text": [
      "./ICLR2019_pdfs/SylCrnCcFX HyMkSERBE\n"
     ]
    },
    {
     "name": "stderr",
     "output_type": "stream",
     "text": [
      "\r",
      "Getting revisions for SylCrnCcFX:  40%|████████████████████████████████████████████████████▊                                                                               | 4/10 [00:02<00:04,  1.30it/s]"
     ]
    },
    {
     "name": "stdout",
     "output_type": "stream",
     "text": [
      "./ICLR2019_pdfs/SylCrnCcFX H1IEk7RBN\n"
     ]
    },
    {
     "name": "stderr",
     "output_type": "stream",
     "text": [
      "\r",
      "Getting revisions for SylCrnCcFX:  50%|██████████████████████████████████████████████████████████████████                                                                  | 5/10 [00:03<00:03,  1.26it/s]"
     ]
    },
    {
     "name": "stdout",
     "output_type": "stream",
     "text": [
      "./ICLR2019_pdfs/SylCrnCcFX BkokwMAHN\n"
     ]
    },
    {
     "name": "stderr",
     "output_type": "stream",
     "text": [
      "\r",
      "Getting revisions for SylCrnCcFX:  60%|███████████████████████████████████████████████████████████████████████████████▏                                                    | 6/10 [00:04<00:03,  1.24it/s]"
     ]
    },
    {
     "name": "stdout",
     "output_type": "stream",
     "text": [
      "./ICLR2019_pdfs/SylCrnCcFX Hysw9K_pX\n"
     ]
    },
    {
     "name": "stderr",
     "output_type": "stream",
     "text": [
      "\r",
      "Getting revisions for SylCrnCcFX:  70%|████████████████████████████████████████████████████████████████████████████████████████████▍                                       | 7/10 [00:05<00:02,  1.22it/s]"
     ]
    },
    {
     "name": "stdout",
     "output_type": "stream",
     "text": [
      "./ICLR2019_pdfs/SylCrnCcFX SJyIUFu67\n"
     ]
    },
    {
     "name": "stderr",
     "output_type": "stream",
     "text": [
      "\r",
      "Getting revisions for SylCrnCcFX:  80%|█████████████████████████████████████████████████████████████████████████████████████████████████████████▌                          | 8/10 [00:06<00:01,  1.20it/s]"
     ]
    },
    {
     "name": "stdout",
     "output_type": "stream",
     "text": [
      "./ICLR2019_pdfs/SylCrnCcFX Bk70YO_6X\n"
     ]
    },
    {
     "name": "stderr",
     "output_type": "stream",
     "text": [
      "\r",
      "Getting revisions for SylCrnCcFX:  90%|██████████████████████████████████████████████████████████████████████████████████████████████████████████████████████▊             | 9/10 [00:07<00:00,  1.18it/s]"
     ]
    },
    {
     "name": "stdout",
     "output_type": "stream",
     "text": [
      "./ICLR2019_pdfs/SylCrnCcFX Hk9Mq3ctm\n"
     ]
    },
    {
     "name": "stderr",
     "output_type": "stream",
     "text": [
      "Getting revisions for SylCrnCcFX: 100%|███████████████████████████████████████████████████████████████████████████████████████████████████████████████████████████████████| 10/10 [00:07<00:00,  1.27it/s]\n"
     ]
    },
    {
     "name": "stdout",
     "output_type": "stream",
     "text": [
      "./ICLR2019_pdfs/H1xAH2RqK7 H1xAH2RqK7\n"
     ]
    },
    {
     "name": "stderr",
     "output_type": "stream",
     "text": [
      "\r",
      "Getting revisions for H1xAH2RqK7:   0%|                                                                                                                                             | 0/3 [00:00<?, ?it/s]"
     ]
    },
    {
     "name": "stdout",
     "output_type": "stream",
     "text": [
      "./ICLR2019_pdfs/H1xAH2RqK7 BrBNIO_M15\n"
     ]
    },
    {
     "name": "stderr",
     "output_type": "stream",
     "text": [
      "\r",
      "Getting revisions for H1xAH2RqK7:  33%|████████████████████████████████████████████▎                                                                                        | 1/3 [00:00<00:00,  4.49it/s]"
     ]
    },
    {
     "name": "stdout",
     "output_type": "stream",
     "text": [
      "./ICLR2019_pdfs/H1xAH2RqK7 B1UYZr9CX\n"
     ]
    },
    {
     "name": "stderr",
     "output_type": "stream",
     "text": [
      "\r",
      "Getting revisions for H1xAH2RqK7:  67%|████████████████████████████████████████████████████████████████████████████████████████▋                                            | 2/3 [00:00<00:00,  2.25it/s]"
     ]
    },
    {
     "name": "stdout",
     "output_type": "stream",
     "text": [
      "./ICLR2019_pdfs/H1xAH2RqK7 SysJWR5tm\n"
     ]
    },
    {
     "name": "stderr",
     "output_type": "stream",
     "text": [
      "Getting revisions for H1xAH2RqK7: 100%|█████████████████████████████████████████████████████████████████████████████████████████████████████████████████████████████████████| 3/3 [00:01<00:00,  2.11it/s]\n"
     ]
    },
    {
     "name": "stdout",
     "output_type": "stream",
     "text": [
      "./ICLR2019_pdfs/HJeABnCqKQ HJeABnCqKQ\n"
     ]
    },
    {
     "name": "stderr",
     "output_type": "stream",
     "text": [
      "\r",
      "Getting revisions for HJeABnCqKQ:   0%|                                                                                                                                             | 0/3 [00:00<?, ?it/s]"
     ]
    },
    {
     "name": "stdout",
     "output_type": "stream",
     "text": [
      "./ICLR2019_pdfs/HJeABnCqKQ rUqtZ_Ozkc\n"
     ]
    },
    {
     "name": "stderr",
     "output_type": "stream",
     "text": [
      "\r",
      "Getting revisions for HJeABnCqKQ:  33%|████████████████████████████████████████████▎                                                                                        | 1/3 [00:00<00:00,  4.56it/s]"
     ]
    },
    {
     "name": "stdout",
     "output_type": "stream",
     "text": [
      "./ICLR2019_pdfs/HJeABnCqKQ SkitUh_RX\n"
     ]
    },
    {
     "name": "stderr",
     "output_type": "stream",
     "text": [
      "\r",
      "Getting revisions for HJeABnCqKQ:  67%|████████████████████████████████████████████████████████████████████████████████████████▋                                            | 2/3 [00:00<00:00,  2.03it/s]"
     ]
    },
    {
     "name": "stdout",
     "output_type": "stream",
     "text": [
      "./ICLR2019_pdfs/HJeABnCqKQ ByJHWdFFQ\n"
     ]
    },
    {
     "name": "stderr",
     "output_type": "stream",
     "text": [
      "Getting revisions for HJeABnCqKQ: 100%|█████████████████████████████████████████████████████████████████████████████████████████████████████████████████████████████████████| 3/3 [00:01<00:00,  1.90it/s]\n"
     ]
    },
    {
     "name": "stdout",
     "output_type": "stream",
     "text": [
      "./ICLR2019_pdfs/SyVpB2RqFX SyVpB2RqFX\n"
     ]
    },
    {
     "name": "stderr",
     "output_type": "stream",
     "text": [
      "\r",
      "Getting revisions for SyVpB2RqFX:   0%|                                                                                                                                            | 0/11 [00:00<?, ?it/s]"
     ]
    },
    {
     "name": "stdout",
     "output_type": "stream",
     "text": [
      "./ICLR2019_pdfs/SyVpB2RqFX SVg38GBp3f\n"
     ]
    },
    {
     "name": "stderr",
     "output_type": "stream",
     "text": [
      "\r",
      "Getting revisions for SyVpB2RqFX:   9%|████████████                                                                                                                        | 1/11 [00:00<00:02,  4.68it/s]"
     ]
    },
    {
     "name": "stdout",
     "output_type": "stream",
     "text": [
      "./ICLR2019_pdfs/SyVpB2RqFX rMfttddzJ9\n"
     ]
    },
    {
     "name": "stderr",
     "output_type": "stream",
     "text": [
      "\r",
      "Getting revisions for SyVpB2RqFX:  18%|████████████████████████                                                                                                            | 2/11 [00:00<00:01,  4.75it/s]"
     ]
    },
    {
     "name": "stdout",
     "output_type": "stream",
     "text": [
      "./ICLR2019_pdfs/SyVpB2RqFX SJ01A_5Cm\n"
     ]
    },
    {
     "name": "stderr",
     "output_type": "stream",
     "text": [
      "\r",
      "Getting revisions for SyVpB2RqFX:  27%|████████████████████████████████████                                                                                                | 3/11 [00:01<00:03,  2.48it/s]"
     ]
    },
    {
     "name": "stdout",
     "output_type": "stream",
     "text": [
      "./ICLR2019_pdfs/SyVpB2RqFX HJdn3O5R7\n"
     ]
    },
    {
     "name": "stderr",
     "output_type": "stream",
     "text": [
      "\r",
      "Getting revisions for SyVpB2RqFX:  36%|████████████████████████████████████████████████                                                                                    | 4/11 [00:01<00:03,  2.04it/s]"
     ]
    },
    {
     "name": "stdout",
     "output_type": "stream",
     "text": [
      "./ICLR2019_pdfs/SyVpB2RqFX HybKcu5CQ\n"
     ]
    },
    {
     "name": "stderr",
     "output_type": "stream",
     "text": [
      "\r",
      "Getting revisions for SyVpB2RqFX:  45%|████████████████████████████████████████████████████████████                                                                        | 5/11 [00:02<00:03,  1.88it/s]"
     ]
    },
    {
     "name": "stdout",
     "output_type": "stream",
     "text": [
      "./ICLR2019_pdfs/SyVpB2RqFX S1Xn5DcAX\n"
     ]
    },
    {
     "name": "stderr",
     "output_type": "stream",
     "text": [
      "\r",
      "Getting revisions for SyVpB2RqFX:  55%|████████████████████████████████████████████████████████████████████████                                                            | 6/11 [00:02<00:02,  1.82it/s]"
     ]
    },
    {
     "name": "stdout",
     "output_type": "stream",
     "text": [
      "./ICLR2019_pdfs/SyVpB2RqFX rJtEA75Rm\n"
     ]
    },
    {
     "name": "stderr",
     "output_type": "stream",
     "text": [
      "\r",
      "Getting revisions for SyVpB2RqFX:  64%|████████████████████████████████████████████████████████████████████████████████████                                                | 7/11 [00:03<00:02,  1.77it/s]"
     ]
    },
    {
     "name": "stdout",
     "output_type": "stream",
     "text": [
      "./ICLR2019_pdfs/SyVpB2RqFX ryp-CmqRQ\n"
     ]
    },
    {
     "name": "stderr",
     "output_type": "stream",
     "text": [
      "\r",
      "Getting revisions for SyVpB2RqFX:  73%|████████████████████████████████████████████████████████████████████████████████████████████████                                    | 8/11 [00:04<00:01,  1.74it/s]"
     ]
    },
    {
     "name": "stdout",
     "output_type": "stream",
     "text": [
      "./ICLR2019_pdfs/SyVpB2RqFX BkR_MeqRQ\n"
     ]
    },
    {
     "name": "stderr",
     "output_type": "stream",
     "text": [
      "\r",
      "Getting revisions for SyVpB2RqFX:  82%|████████████████████████████████████████████████████████████████████████████████████████████████████████████                        | 9/11 [00:04<00:01,  1.72it/s]"
     ]
    },
    {
     "name": "stdout",
     "output_type": "stream",
     "text": [
      "./ICLR2019_pdfs/SyVpB2RqFX Sy4xxlcRm\n"
     ]
    },
    {
     "name": "stderr",
     "output_type": "stream",
     "text": [
      "\r",
      "Getting revisions for SyVpB2RqFX:  91%|███████████████████████████████████████████████████████████████████████████████████████████████████████████████████████            | 10/11 [00:05<00:00,  1.71it/s]"
     ]
    },
    {
     "name": "stdout",
     "output_type": "stream",
     "text": [
      "./ICLR2019_pdfs/SyVpB2RqFX r1HU-A5Y7\n"
     ]
    },
    {
     "name": "stderr",
     "output_type": "stream",
     "text": [
      "Getting revisions for SyVpB2RqFX: 100%|███████████████████████████████████████████████████████████████████████████████████████████████████████████████████████████████████| 11/11 [00:05<00:00,  1.89it/s]\n"
     ]
    },
    {
     "name": "stdout",
     "output_type": "stream",
     "text": [
      "./ICLR2019_pdfs/SJf6BhAqK7 SJf6BhAqK7\n"
     ]
    },
    {
     "name": "stderr",
     "output_type": "stream",
     "text": [
      "\r",
      "Getting revisions for SJf6BhAqK7:   0%|                                                                                                                                             | 0/3 [00:00<?, ?it/s]"
     ]
    },
    {
     "name": "stdout",
     "output_type": "stream",
     "text": [
      "./ICLR2019_pdfs/SJf6BhAqK7 rygRC1q07\n"
     ]
    },
    {
     "name": "stderr",
     "output_type": "stream",
     "text": [
      "\r",
      "Getting revisions for SJf6BhAqK7:  33%|████████████████████████████████████████████▎                                                                                        | 1/3 [00:00<00:01,  1.98it/s]"
     ]
    },
    {
     "name": "stdout",
     "output_type": "stream",
     "text": [
      "./ICLR2019_pdfs/SJf6BhAqK7 rJHKE6707\n"
     ]
    },
    {
     "name": "stderr",
     "output_type": "stream",
     "text": [
      "\r",
      "Getting revisions for SJf6BhAqK7:  67%|████████████████████████████████████████████████████████████████████████████████████████▋                                            | 2/3 [00:01<00:00,  1.99it/s]"
     ]
    },
    {
     "name": "stdout",
     "output_type": "stream",
     "text": [
      "./ICLR2019_pdfs/SJf6BhAqK7 HkV0GRcF7\n"
     ]
    },
    {
     "name": "stderr",
     "output_type": "stream",
     "text": [
      "Getting revisions for SJf6BhAqK7: 100%|█████████████████████████████████████████████████████████████████████████████████████████████████████████████████████████████████████| 3/3 [00:01<00:00,  1.91it/s]\n"
     ]
    },
    {
     "name": "stdout",
     "output_type": "stream",
     "text": [
      "./ICLR2019_pdfs/H1faSn0qY7 H1faSn0qY7\n"
     ]
    },
    {
     "name": "stderr",
     "output_type": "stream",
     "text": [
      "\r",
      "Getting revisions for H1faSn0qY7:   0%|                                                                                                                                             | 0/5 [00:00<?, ?it/s]"
     ]
    },
    {
     "name": "stdout",
     "output_type": "stream",
     "text": [
      "./ICLR2019_pdfs/H1faSn0qY7 r89l_uuG15\n"
     ]
    },
    {
     "name": "stderr",
     "output_type": "stream",
     "text": [
      "\r",
      "Getting revisions for H1faSn0qY7:  20%|██████████████████████████▌                                                                                                          | 1/5 [00:00<00:00,  4.81it/s]"
     ]
    },
    {
     "name": "stdout",
     "output_type": "stream",
     "text": [
      "./ICLR2019_pdfs/H1faSn0qY7 r1eKl0EAQ\n"
     ]
    },
    {
     "name": "stderr",
     "output_type": "stream",
     "text": [
      "\r",
      "Getting revisions for H1faSn0qY7:  40%|█████████████████████████████████████████████████████▏                                                                               | 2/5 [00:00<00:01,  2.79it/s]"
     ]
    },
    {
     "name": "stdout",
     "output_type": "stream",
     "text": [
      "./ICLR2019_pdfs/H1faSn0qY7 HJ_1aTN0m\n"
     ]
    },
    {
     "name": "stderr",
     "output_type": "stream",
     "text": [
      "\r",
      "Getting revisions for H1faSn0qY7:  60%|███████████████████████████████████████████████████████████████████████████████▊                                                     | 3/5 [00:01<00:00,  2.35it/s]"
     ]
    },
    {
     "name": "stdout",
     "output_type": "stream",
     "text": [
      "./ICLR2019_pdfs/H1faSn0qY7 BkGkGRqtQ\n"
     ]
    },
    {
     "name": "stderr",
     "output_type": "stream",
     "text": [
      "\r",
      "Getting revisions for H1faSn0qY7:  80%|██████████████████████████████████████████████████████████████████████████████████████████████████████████▍                          | 4/5 [00:01<00:00,  2.23it/s]"
     ]
    },
    {
     "name": "stdout",
     "output_type": "stream",
     "text": [
      "./ICLR2019_pdfs/H1faSn0qY7 HJQZM7GAQ\n"
     ]
    },
    {
     "name": "stderr",
     "output_type": "stream",
     "text": [
      "Getting revisions for H1faSn0qY7: 100%|█████████████████████████████████████████████████████████████████████████████████████████████████████████████████████████████████████| 5/5 [00:02<00:00,  2.33it/s]\n"
     ]
    },
    {
     "name": "stdout",
     "output_type": "stream",
     "text": [
      "./ICLR2019_pdfs/HJgTHnActQ HJgTHnActQ\n"
     ]
    },
    {
     "name": "stderr",
     "output_type": "stream",
     "text": [
      "\r",
      "Getting revisions for HJgTHnActQ:   0%|                                                                                                                                             | 0/3 [00:00<?, ?it/s]"
     ]
    },
    {
     "name": "stdout",
     "output_type": "stream",
     "text": [
      "./ICLR2019_pdfs/HJgTHnActQ BWEBK__f1c\n"
     ]
    },
    {
     "name": "stderr",
     "output_type": "stream",
     "text": [
      "\r",
      "Getting revisions for HJgTHnActQ:  33%|████████████████████████████████████████████▎                                                                                        | 1/3 [00:00<00:00,  4.57it/s]"
     ]
    },
    {
     "name": "stdout",
     "output_type": "stream",
     "text": [
      "./ICLR2019_pdfs/HJgTHnActQ ry7dCV5AX\n"
     ]
    },
    {
     "name": "stderr",
     "output_type": "stream",
     "text": [
      "\r",
      "Getting revisions for HJgTHnActQ:  67%|████████████████████████████████████████████████████████████████████████████████████████▋                                            | 2/3 [00:01<00:00,  1.70it/s]"
     ]
    },
    {
     "name": "stdout",
     "output_type": "stream",
     "text": [
      "./ICLR2019_pdfs/HJgTHnActQ SyEeyh9Fm\n"
     ]
    },
    {
     "name": "stderr",
     "output_type": "stream",
     "text": [
      "Getting revisions for HJgTHnActQ: 100%|█████████████████████████████████████████████████████████████████████████████████████████████████████████████████████████████████████| 3/3 [00:01<00:00,  1.58it/s]\n"
     ]
    },
    {
     "name": "stdout",
     "output_type": "stream",
     "text": [
      "./ICLR2019_pdfs/HylTBhA5tQ HylTBhA5tQ\n"
     ]
    },
    {
     "name": "stderr",
     "output_type": "stream",
     "text": [
      "\r",
      "Getting revisions for HylTBhA5tQ:   0%|                                                                                                                                            | 0/13 [00:00<?, ?it/s]"
     ]
    },
    {
     "name": "stdout",
     "output_type": "stream",
     "text": [
      "./ICLR2019_pdfs/HylTBhA5tQ HJtIL9h-4\n"
     ]
    },
    {
     "name": "stderr",
     "output_type": "stream",
     "text": [
      "\r",
      "Getting revisions for HylTBhA5tQ:   8%|██████████▏                                                                                                                         | 1/13 [00:00<00:05,  2.04it/s]"
     ]
    },
    {
     "name": "stdout",
     "output_type": "stream",
     "text": [
      "./ICLR2019_pdfs/HylTBhA5tQ BJ64z53ZE\n"
     ]
    },
    {
     "name": "stderr",
     "output_type": "stream",
     "text": [
      "\r",
      "Getting revisions for HylTBhA5tQ:  15%|████████████████████▎                                                                                                               | 2/13 [00:00<00:05,  2.05it/s]"
     ]
    },
    {
     "name": "stdout",
     "output_type": "stream",
     "text": [
      "./ICLR2019_pdfs/HylTBhA5tQ BkpZGq3ZN\n"
     ]
    },
    {
     "name": "stderr",
     "output_type": "stream",
     "text": [
      "\r",
      "Getting revisions for HylTBhA5tQ:  23%|██████████████████████████████▍                                                                                                     | 3/13 [00:01<00:04,  2.04it/s]"
     ]
    },
    {
     "name": "stdout",
     "output_type": "stream",
     "text": [
      "./ICLR2019_pdfs/HylTBhA5tQ Byo3z7sbN\n"
     ]
    },
    {
     "name": "stderr",
     "output_type": "stream",
     "text": [
      "\r",
      "Getting revisions for HylTBhA5tQ:  31%|████████████████████████████████████████▌                                                                                           | 4/13 [00:01<00:04,  2.03it/s]"
     ]
    },
    {
     "name": "stdout",
     "output_type": "stream",
     "text": [
      "./ICLR2019_pdfs/HylTBhA5tQ SJuL7qV-V\n"
     ]
    },
    {
     "name": "stderr",
     "output_type": "stream",
     "text": [
      "\r",
      "Getting revisions for HylTBhA5tQ:  38%|██████████████████████████████████████████████████▊                                                                                 | 5/13 [00:02<00:03,  2.02it/s]"
     ]
    },
    {
     "name": "stdout",
     "output_type": "stream",
     "text": [
      "./ICLR2019_pdfs/HylTBhA5tQ HyWTqT9gE\n"
     ]
    },
    {
     "name": "stderr",
     "output_type": "stream",
     "text": [
      "\r",
      "Getting revisions for HylTBhA5tQ:  46%|████████████████████████████████████████████████████████████▉                                                                       | 6/13 [00:02<00:03,  2.02it/s]"
     ]
    },
    {
     "name": "stdout",
     "output_type": "stream",
     "text": [
      "./ICLR2019_pdfs/HylTBhA5tQ BkE1GKcgN\n"
     ]
    },
    {
     "name": "stderr",
     "output_type": "stream",
     "text": [
      "\r",
      "Getting revisions for HylTBhA5tQ:  54%|███████████████████████████████████████████████████████████████████████                                                             | 7/13 [00:03<00:02,  2.03it/s]"
     ]
    },
    {
     "name": "stdout",
     "output_type": "stream",
     "text": [
      "./ICLR2019_pdfs/HylTBhA5tQ B1F2VV5xV\n"
     ]
    },
    {
     "name": "stderr",
     "output_type": "stream",
     "text": [
      "\r",
      "Getting revisions for HylTBhA5tQ:  62%|█████████████████████████████████████████████████████████████████████████████████▏                                                  | 8/13 [00:03<00:02,  2.04it/s]"
     ]
    },
    {
     "name": "stdout",
     "output_type": "stream",
     "text": [
      "./ICLR2019_pdfs/HylTBhA5tQ Sk3cLIcAQ\n"
     ]
    },
    {
     "name": "stderr",
     "output_type": "stream",
     "text": [
      "\r",
      "Getting revisions for HylTBhA5tQ:  69%|███████████████████████████████████████████████████████████████████████████████████████████▍                                        | 9/13 [00:04<00:01,  2.06it/s]"
     ]
    },
    {
     "name": "stdout",
     "output_type": "stream",
     "text": [
      "./ICLR2019_pdfs/HylTBhA5tQ B1ncGoyAQ\n"
     ]
    },
    {
     "name": "stderr",
     "output_type": "stream",
     "text": [
      "\r",
      "Getting revisions for HylTBhA5tQ:  77%|████████████████████████████████████████████████████████████████████████████████████████████████████▊                              | 10/13 [00:04<00:01,  2.04it/s]"
     ]
    },
    {
     "name": "stdout",
     "output_type": "stream",
     "text": [
      "./ICLR2019_pdfs/HylTBhA5tQ HJUM96M6Q\n"
     ]
    },
    {
     "name": "stderr",
     "output_type": "stream",
     "text": [
      "\r",
      "Getting revisions for HylTBhA5tQ:  85%|██████████████████████████████████████████████████████████████████████████████████████████████████████████████▊                    | 11/13 [00:05<00:00,  2.05it/s]"
     ]
    },
    {
     "name": "stdout",
     "output_type": "stream",
     "text": [
      "./ICLR2019_pdfs/HylTBhA5tQ BJT6KpfTQ\n"
     ]
    },
    {
     "name": "stderr",
     "output_type": "stream",
     "text": [
      "\r",
      "Getting revisions for HylTBhA5tQ:  92%|████████████████████████████████████████████████████████████████████████████████████████████████████████████████████████▉          | 12/13 [00:05<00:00,  2.03it/s]"
     ]
    },
    {
     "name": "stdout",
     "output_type": "stream",
     "text": [
      "./ICLR2019_pdfs/HylTBhA5tQ rJGBRocFm\n"
     ]
    },
    {
     "name": "stderr",
     "output_type": "stream",
     "text": [
      "Getting revisions for HylTBhA5tQ: 100%|███████████████████████████████████████████████████████████████████████████████████████████████████████████████████████████████████| 13/13 [00:06<00:00,  2.02it/s]\n"
     ]
    },
    {
     "name": "stdout",
     "output_type": "stream",
     "text": [
      "./ICLR2019_pdfs/B1gTShAct7 B1gTShAct7\n"
     ]
    },
    {
     "name": "stderr",
     "output_type": "stream",
     "text": [
      "\r",
      "Getting revisions for B1gTShAct7:   0%|                                                                                                                                            | 0/11 [00:00<?, ?it/s]"
     ]
    },
    {
     "name": "stdout",
     "output_type": "stream",
     "text": [
      "./ICLR2019_pdfs/B1gTShAct7 H5zeuuGyc\n"
     ]
    },
    {
     "name": "stderr",
     "output_type": "stream",
     "text": [
      "\r",
      "Getting revisions for B1gTShAct7:   9%|████████████                                                                                                                        | 1/11 [00:00<00:02,  4.70it/s]"
     ]
    },
    {
     "name": "stdout",
     "output_type": "stream",
     "text": [
      "./ICLR2019_pdfs/B1gTShAct7 BkmS7QtiE\n"
     ]
    },
    {
     "name": "stderr",
     "output_type": "stream",
     "text": [
      "\r",
      "Getting revisions for B1gTShAct7:  18%|████████████████████████                                                                                                            | 2/11 [00:00<00:04,  2.10it/s]"
     ]
    },
    {
     "name": "stdout",
     "output_type": "stream",
     "text": [
      "./ICLR2019_pdfs/B1gTShAct7 rkmbRChY4\n"
     ]
    },
    {
     "name": "stderr",
     "output_type": "stream",
     "text": [
      "\r",
      "Getting revisions for B1gTShAct7:  27%|████████████████████████████████████                                                                                                | 3/11 [00:01<00:04,  1.78it/s]"
     ]
    },
    {
     "name": "stdout",
     "output_type": "stream",
     "text": [
      "./ICLR2019_pdfs/B1gTShAct7 H1XY9BfFE\n"
     ]
    },
    {
     "name": "stderr",
     "output_type": "stream",
     "text": [
      "\r",
      "Getting revisions for B1gTShAct7:  36%|████████████████████████████████████████████████                                                                                    | 4/11 [00:02<00:04,  1.66it/s]"
     ]
    },
    {
     "name": "stdout",
     "output_type": "stream",
     "text": [
      "./ICLR2019_pdfs/B1gTShAct7 Sk0JX8AHV\n"
     ]
    },
    {
     "name": "stderr",
     "output_type": "stream",
     "text": [
      "\r",
      "Getting revisions for B1gTShAct7:  45%|████████████████████████████████████████████████████████████                                                                        | 5/11 [00:02<00:03,  1.58it/s]"
     ]
    },
    {
     "name": "stdout",
     "output_type": "stream",
     "text": [
      "./ICLR2019_pdfs/B1gTShAct7 BJRVurRBV\n"
     ]
    },
    {
     "name": "stderr",
     "output_type": "stream",
     "text": [
      "\r",
      "Getting revisions for B1gTShAct7:  55%|████████████████████████████████████████████████████████████████████████                                                            | 6/11 [00:03<00:03,  1.55it/s]"
     ]
    },
    {
     "name": "stdout",
     "output_type": "stream",
     "text": [
      "./ICLR2019_pdfs/B1gTShAct7 ByvlvH0B4\n"
     ]
    },
    {
     "name": "stderr",
     "output_type": "stream",
     "text": [
      "\r",
      "Getting revisions for B1gTShAct7:  64%|████████████████████████████████████████████████████████████████████████████████████                                                | 7/11 [00:04<00:02,  1.52it/s]"
     ]
    },
    {
     "name": "stdout",
     "output_type": "stream",
     "text": [
      "./ICLR2019_pdfs/B1gTShAct7 BJbHkMqR7\n"
     ]
    },
    {
     "name": "stderr",
     "output_type": "stream",
     "text": [
      "\r",
      "Getting revisions for B1gTShAct7:  73%|████████████████████████████████████████████████████████████████████████████████████████████████                                    | 8/11 [00:04<00:02,  1.50it/s]"
     ]
    },
    {
     "name": "stdout",
     "output_type": "stream",
     "text": [
      "./ICLR2019_pdfs/B1gTShAct7 SJ2DBlcCX\n"
     ]
    },
    {
     "name": "stderr",
     "output_type": "stream",
     "text": [
      "\r",
      "Getting revisions for B1gTShAct7:  82%|████████████████████████████████████████████████████████████████████████████████████████████████████████████                        | 9/11 [00:05<00:01,  1.46it/s]"
     ]
    },
    {
     "name": "stdout",
     "output_type": "stream",
     "text": [
      "./ICLR2019_pdfs/B1gTShAct7 H1D0419Am\n"
     ]
    },
    {
     "name": "stderr",
     "output_type": "stream",
     "text": [
      "\r",
      "Getting revisions for B1gTShAct7:  91%|███████████████████████████████████████████████████████████████████████████████████████████████████████████████████████            | 10/11 [00:06<00:00,  1.47it/s]"
     ]
    },
    {
     "name": "stdout",
     "output_type": "stream",
     "text": [
      "./ICLR2019_pdfs/B1gTShAct7 H1hanTcKQ\n"
     ]
    },
    {
     "name": "stderr",
     "output_type": "stream",
     "text": [
      "Getting revisions for B1gTShAct7: 100%|███████████████████████████████████████████████████████████████████████████████████████████████████████████████████████████████████| 11/11 [00:06<00:00,  1.58it/s]\n"
     ]
    },
    {
     "name": "stdout",
     "output_type": "stream",
     "text": [
      "./ICLR2019_pdfs/HJehSnCcFX HJehSnCcFX\n"
     ]
    },
    {
     "name": "stderr",
     "output_type": "stream",
     "text": [
      "\r",
      "Getting revisions for HJehSnCcFX:   0%|                                                                                                                                             | 0/3 [00:00<?, ?it/s]"
     ]
    },
    {
     "name": "stdout",
     "output_type": "stream",
     "text": [
      "./ICLR2019_pdfs/HJehSnCcFX Bk6tixcAm\n"
     ]
    },
    {
     "name": "stderr",
     "output_type": "stream",
     "text": [
      "\r",
      "Getting revisions for HJehSnCcFX:  33%|████████████████████████████████████████████▎                                                                                        | 1/3 [00:00<00:01,  1.67it/s]"
     ]
    },
    {
     "name": "stdout",
     "output_type": "stream",
     "text": [
      "./ICLR2019_pdfs/HJehSnCcFX Hkx3qg9A7\n"
     ]
    },
    {
     "name": "stderr",
     "output_type": "stream",
     "text": [
      "\r",
      "Getting revisions for HJehSnCcFX:  67%|████████████████████████████████████████████████████████████████████████████████████████▋                                            | 2/3 [00:01<00:00,  1.63it/s]"
     ]
    },
    {
     "name": "stdout",
     "output_type": "stream",
     "text": [
      "./ICLR2019_pdfs/HJehSnCcFX HJat6p9Ym\n"
     ]
    },
    {
     "name": "stderr",
     "output_type": "stream",
     "text": [
      "Getting revisions for HJehSnCcFX: 100%|█████████████████████████████████████████████████████████████████████████████████████████████████████████████████████████████████████| 3/3 [00:01<00:00,  1.59it/s]\n"
     ]
    },
    {
     "name": "stdout",
     "output_type": "stream",
     "text": [
      "./ICLR2019_pdfs/ryxnHhRqFm ryxnHhRqFm\n"
     ]
    },
    {
     "name": "stderr",
     "output_type": "stream",
     "text": [
      "\r",
      "Getting revisions for ryxnHhRqFm:   0%|                                                                                                                                             | 0/4 [00:00<?, ?it/s]"
     ]
    },
    {
     "name": "stdout",
     "output_type": "stream",
     "text": [
      "./ICLR2019_pdfs/ryxnHhRqFm BpvrDKOfk5\n"
     ]
    },
    {
     "name": "stderr",
     "output_type": "stream",
     "text": [
      "\r",
      "Getting revisions for ryxnHhRqFm:  25%|█████████████████████████████████▎                                                                                                   | 1/4 [00:00<00:00,  4.76it/s]"
     ]
    },
    {
     "name": "stdout",
     "output_type": "stream",
     "text": [
      "./ICLR2019_pdfs/ryxnHhRqFm SJxZfmsG4\n"
     ]
    },
    {
     "name": "stderr",
     "output_type": "stream",
     "text": [
      "\r",
      "Getting revisions for ryxnHhRqFm:  50%|██████████████████████████████████████████████████████████████████▌                                                                  | 2/4 [00:00<00:00,  2.37it/s]"
     ]
    },
    {
     "name": "stdout",
     "output_type": "stream",
     "text": [
      "./ICLR2019_pdfs/ryxnHhRqFm H1vdCwJCX\n"
     ]
    },
    {
     "name": "stderr",
     "output_type": "stream",
     "text": [
      "\r",
      "Getting revisions for ryxnHhRqFm:  75%|███████████████████████████████████████████████████████████████████████████████████████████████████▊                                 | 3/4 [00:01<00:00,  2.07it/s]"
     ]
    },
    {
     "name": "stdout",
     "output_type": "stream",
     "text": [
      "./ICLR2019_pdfs/ryxnHhRqFm rkUEot5tX\n"
     ]
    },
    {
     "name": "stderr",
     "output_type": "stream",
     "text": [
      "Getting revisions for ryxnHhRqFm: 100%|█████████████████████████████████████████████████████████████████████████████████████████████████████████████████████████████████████| 4/4 [00:01<00:00,  2.12it/s]\n"
     ]
    }
   ],
   "source": [
    "pdfs_dir = OUTPUT_DIR + \"/\"\n",
    "os.makedirs(pdfs_dir, exist_ok=True)\n",
    "\n",
    "for i, forum_note in enumerate(openreview.tools.iterget_notes(\n",
    "        guest_client, invitation=INVITATION)):\n",
    "    forum_dir = pdfs_dir + forum_note.id\n",
    "    os.makedirs(forum_dir, exist_ok=True)\n",
    "    write_pdf_to_file(guest_client, forum_dir, forum_note)\n",
    "    for revision in tqdm.tqdm(guest_client.get_references(\n",
    "            referent=forum_note.id, original=True),\n",
    "            desc=\"Getting revisions for {0}\".format(forum_note.id)):\n",
    "        try:\n",
    "            write_pdf_to_file(guest_client, forum_dir, revision)\n",
    "        except openreview.OpenReviewException:\n",
    "            continue\n",
    "    if i == LIMIT + 1:\n",
    "        break"
   ]
  },
  {
   "cell_type": "code",
   "execution_count": 8,
   "id": "8b21f82d",
   "metadata": {},
   "outputs": [],
   "source": [
    "client = openreview.Client(baseurl='https://api.openreview.net', username='kennard@cs.umass.edu', password='owyel8loWy')"
   ]
  },
  {
   "cell_type": "code",
   "execution_count": 20,
   "id": "5c751fe2",
   "metadata": {},
   "outputs": [
    {
     "ename": "OpenReviewException",
     "evalue": "{'name': 'NotFoundError', 'message': 'The Pdf file was not found', 'status': 404, 'details': {'path': 'note.content.pdf', 'reqId': '2022-12-25-75747'}}",
     "output_type": "error",
     "traceback": [
      "\u001b[0;31m---------------------------------------------------------------------------\u001b[0m",
      "\u001b[0;31mHTTPError\u001b[0m                                 Traceback (most recent call last)",
      "\u001b[0;32m~/git_repos/openreview-snippets/ve/lib/python3.9/site-packages/openreview/openreview.py\u001b[0m in \u001b[0;36m__handle_response\u001b[0;34m(self, response)\u001b[0m\n\u001b[1;32m     97\u001b[0m         \u001b[0;32mtry\u001b[0m\u001b[0;34m:\u001b[0m\u001b[0;34m\u001b[0m\u001b[0;34m\u001b[0m\u001b[0m\n\u001b[0;32m---> 98\u001b[0;31m             \u001b[0mresponse\u001b[0m\u001b[0;34m.\u001b[0m\u001b[0mraise_for_status\u001b[0m\u001b[0;34m(\u001b[0m\u001b[0;34m)\u001b[0m\u001b[0;34m\u001b[0m\u001b[0;34m\u001b[0m\u001b[0m\n\u001b[0m\u001b[1;32m     99\u001b[0m \u001b[0;34m\u001b[0m\u001b[0m\n",
      "\u001b[0;32m~/git_repos/openreview-snippets/ve/lib/python3.9/site-packages/requests/models.py\u001b[0m in \u001b[0;36mraise_for_status\u001b[0;34m(self)\u001b[0m\n\u001b[1;32m    952\u001b[0m         \u001b[0;32mif\u001b[0m \u001b[0mhttp_error_msg\u001b[0m\u001b[0;34m:\u001b[0m\u001b[0;34m\u001b[0m\u001b[0;34m\u001b[0m\u001b[0m\n\u001b[0;32m--> 953\u001b[0;31m             \u001b[0;32mraise\u001b[0m \u001b[0mHTTPError\u001b[0m\u001b[0;34m(\u001b[0m\u001b[0mhttp_error_msg\u001b[0m\u001b[0;34m,\u001b[0m \u001b[0mresponse\u001b[0m\u001b[0;34m=\u001b[0m\u001b[0mself\u001b[0m\u001b[0;34m)\u001b[0m\u001b[0;34m\u001b[0m\u001b[0;34m\u001b[0m\u001b[0m\n\u001b[0m\u001b[1;32m    954\u001b[0m \u001b[0;34m\u001b[0m\u001b[0m\n",
      "\u001b[0;31mHTTPError\u001b[0m: 404 Client Error: Not Found for url: https://api.openreview.net/references/pdf?id=SJCr209tm",
      "\nDuring handling of the above exception, another exception occurred:\n",
      "\u001b[0;31mOpenReviewException\u001b[0m                       Traceback (most recent call last)",
      "\u001b[0;32m/var/folders/81/224zrp557vz1mk2khc5d7_8w0000gq/T/ipykernel_60838/2847113675.py\u001b[0m in \u001b[0;36m<module>\u001b[0;34m\u001b[0m\n\u001b[1;32m      2\u001b[0m             referent=\"rJl0r3R9KX\", original=False)\n\u001b[1;32m      3\u001b[0m \u001b[0;32mfor\u001b[0m \u001b[0mx\u001b[0m \u001b[0;32min\u001b[0m \u001b[0ma\u001b[0m\u001b[0;34m:\u001b[0m\u001b[0;34m\u001b[0m\u001b[0;34m\u001b[0m\u001b[0m\n\u001b[0;32m----> 4\u001b[0;31m   \u001b[0ml\u001b[0m \u001b[0;34m=\u001b[0m \u001b[0mclient\u001b[0m\u001b[0;34m.\u001b[0m\u001b[0mget_pdf\u001b[0m\u001b[0;34m(\u001b[0m\u001b[0mx\u001b[0m\u001b[0;34m.\u001b[0m\u001b[0mid\u001b[0m\u001b[0;34m,\u001b[0m \u001b[0mis_reference\u001b[0m\u001b[0;34m=\u001b[0m\u001b[0;32mTrue\u001b[0m\u001b[0;34m)\u001b[0m\u001b[0;34m\u001b[0m\u001b[0;34m\u001b[0m\u001b[0m\n\u001b[0m\u001b[1;32m      5\u001b[0m   \u001b[0mprint\u001b[0m\u001b[0;34m(\u001b[0m\u001b[0mx\u001b[0m\u001b[0;34m.\u001b[0m\u001b[0mid\u001b[0m\u001b[0;34m)\u001b[0m\u001b[0;34m\u001b[0m\u001b[0;34m\u001b[0m\u001b[0m\n",
      "\u001b[0;32m~/git_repos/openreview-snippets/ve/lib/python3.9/site-packages/openreview/openreview.py\u001b[0m in \u001b[0;36mget_pdf\u001b[0;34m(self, id, is_reference)\u001b[0m\n\u001b[1;32m    430\u001b[0m \u001b[0;34m\u001b[0m\u001b[0m\n\u001b[1;32m    431\u001b[0m         \u001b[0mresponse\u001b[0m \u001b[0;34m=\u001b[0m \u001b[0mrequests\u001b[0m\u001b[0;34m.\u001b[0m\u001b[0mget\u001b[0m\u001b[0;34m(\u001b[0m\u001b[0murl\u001b[0m\u001b[0;34m,\u001b[0m \u001b[0mparams\u001b[0m \u001b[0;34m=\u001b[0m \u001b[0mparams\u001b[0m\u001b[0;34m,\u001b[0m \u001b[0mheaders\u001b[0m \u001b[0;34m=\u001b[0m \u001b[0mheaders\u001b[0m\u001b[0;34m)\u001b[0m\u001b[0;34m\u001b[0m\u001b[0;34m\u001b[0m\u001b[0m\n\u001b[0;32m--> 432\u001b[0;31m         \u001b[0mresponse\u001b[0m \u001b[0;34m=\u001b[0m \u001b[0mself\u001b[0m\u001b[0;34m.\u001b[0m\u001b[0m__handle_response\u001b[0m\u001b[0;34m(\u001b[0m\u001b[0mresponse\u001b[0m\u001b[0;34m)\u001b[0m\u001b[0;34m\u001b[0m\u001b[0;34m\u001b[0m\u001b[0m\n\u001b[0m\u001b[1;32m    433\u001b[0m         \u001b[0;32mreturn\u001b[0m \u001b[0mresponse\u001b[0m\u001b[0;34m.\u001b[0m\u001b[0mcontent\u001b[0m\u001b[0;34m\u001b[0m\u001b[0;34m\u001b[0m\u001b[0m\n\u001b[1;32m    434\u001b[0m \u001b[0;34m\u001b[0m\u001b[0m\n",
      "\u001b[0;32m~/git_repos/openreview-snippets/ve/lib/python3.9/site-packages/openreview/openreview.py\u001b[0m in \u001b[0;36m__handle_response\u001b[0;34m(self, response)\u001b[0m\n\u001b[1;32m    109\u001b[0m                 \u001b[0;32mraise\u001b[0m \u001b[0mOpenReviewException\u001b[0m\u001b[0;34m(\u001b[0m\u001b[0mresponse\u001b[0m\u001b[0;34m.\u001b[0m\u001b[0mjson\u001b[0m\u001b[0;34m(\u001b[0m\u001b[0;34m)\u001b[0m\u001b[0;34m[\u001b[0m\u001b[0;34m'errors'\u001b[0m\u001b[0;34m]\u001b[0m\u001b[0;34m)\u001b[0m\u001b[0;34m\u001b[0m\u001b[0;34m\u001b[0m\u001b[0m\n\u001b[1;32m    110\u001b[0m             \u001b[0;32melse\u001b[0m\u001b[0;34m:\u001b[0m\u001b[0;34m\u001b[0m\u001b[0;34m\u001b[0m\u001b[0m\n\u001b[0;32m--> 111\u001b[0;31m                 \u001b[0;32mraise\u001b[0m \u001b[0mOpenReviewException\u001b[0m\u001b[0;34m(\u001b[0m\u001b[0mresponse\u001b[0m\u001b[0;34m.\u001b[0m\u001b[0mjson\u001b[0m\u001b[0;34m(\u001b[0m\u001b[0;34m)\u001b[0m\u001b[0;34m)\u001b[0m\u001b[0;34m\u001b[0m\u001b[0;34m\u001b[0m\u001b[0m\n\u001b[0m\u001b[1;32m    112\u001b[0m \u001b[0;34m\u001b[0m\u001b[0m\n\u001b[1;32m    113\u001b[0m     \u001b[0;31m## PUBLIC FUNCTIONS\u001b[0m\u001b[0;34m\u001b[0m\u001b[0;34m\u001b[0m\u001b[0m\n",
      "\u001b[0;31mOpenReviewException\u001b[0m: {'name': 'NotFoundError', 'message': 'The Pdf file was not found', 'status': 404, 'details': {'path': 'note.content.pdf', 'reqId': '2022-12-25-75747'}}"
     ]
    }
   ],
   "source": [
    "\n",
    "\n",
    "a = guest_client.get_references(\n",
    "            referent=\"rJl0r3R9KX\", original=False)\n",
    "for x in a:\n",
    "  l = client.get_pdf(x.id, is_reference=True)\n",
    "  print(x.id)"
   ]
  },
  {
   "cell_type": "code",
   "execution_count": null,
   "id": "0c7bfc56",
   "metadata": {},
   "outputs": [],
   "source": []
  },
  {
   "cell_type": "code",
   "execution_count": null,
   "id": "d697257d",
   "metadata": {},
   "outputs": [],
   "source": []
  }
 ],
 "metadata": {
  "kernelspec": {
   "display_name": "Python 3 (ipykernel)",
   "language": "python",
   "name": "python3"
  },
  "language_info": {
   "codemirror_mode": {
    "name": "ipython",
    "version": 3
   },
   "file_extension": ".py",
   "mimetype": "text/x-python",
   "name": "python",
   "nbconvert_exporter": "python",
   "pygments_lexer": "ipython3",
   "version": "3.9.14"
  }
 },
 "nbformat": 4,
 "nbformat_minor": 5
}
