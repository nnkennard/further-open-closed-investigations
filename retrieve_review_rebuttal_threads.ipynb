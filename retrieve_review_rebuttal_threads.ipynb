{
 "cells": [
  {
   "cell_type": "markdown",
   "id": "b2b4bf69",
   "metadata": {},
   "source": [
    "## Retrieve review and rebuttal threads\n",
    "\n",
    "Reviewers and authors often thread their reviews and responses (possibly due to character limits?)\n",
    "\n",
    "The code below retrieves\n",
    "1. Reviews\n",
    "2. The longest unbroken thread of replies by the same reviewer to each review\n",
    "3. Rebuttals (replies by the authors to an official review)\n",
    "4. The longest unbroken thread of replies by the authors to their first reply to the review"
   ]
  },
  {
   "cell_type": "code",
   "execution_count": 1,
   "id": "645b0cdd",
   "metadata": {},
   "outputs": [
    {
     "name": "stderr",
     "output_type": "stream",
     "text": [
      "2595it [11:36,  3.72it/s]"
     ]
    },
    {
     "name": "stdout",
     "output_type": "stream",
     "text": [
      "Review lengths (number of notes)\n",
      "Counter({1: 9948, 2: 76, 3: 2})\n",
      "Rebuttal lengths (number of notes)\n",
      "Counter({1: 9386, 2: 1046, 3: 170, 4: 29, 5: 7, 6: 2})\n"
     ]
    },
    {
     "name": "stderr",
     "output_type": "stream",
     "text": [
      "\n"
     ]
    }
   ],
   "source": [
    "import collections\n",
    "from datetime import datetime\n",
    "import openreview\n",
    "import os\n",
    "import tqdm\n",
    "\n",
    "\n",
    "# Change these values according to your needs\n",
    "INVITATION = 'ICLR.cc/2021/Conference/-/Blind_Submission'\n",
    "LIMIT = 10 # Number of papers to build timelines for\n",
    "\n",
    "def get_replies(note, discussion_notes):\n",
    "  return [x for x in discussion_notes if x.replyto == note.id]\n",
    "\n",
    "def get_longest_thread(top_note, discussion_notes):\n",
    "  threads = [[top_note]]\n",
    "  while True:\n",
    "    new_threads = []\n",
    "    for thread in threads:\n",
    "      thread_last = thread[-1]\n",
    "      candidates = [c for c in get_replies(thread_last, discussion_notes) if c.signatures == thread_last.signatures]\n",
    "      for candidate in candidates:\n",
    "        new_threads.append(thread + [candidate])\n",
    "    if not new_threads:\n",
    "      break\n",
    "    threads = new_threads\n",
    "  return max(threads, key=lambda x:len(x))\n",
    "    \n",
    "\n",
    "# A client is required for any OpenReview API actions\n",
    "guest_client = openreview.Client(baseurl='https://api.openreview.net')\n",
    "\n",
    "def get_review_threads(discussion_notes):\n",
    "  reviews = []\n",
    "  for note in discussion_notes:\n",
    "    if note.replyto == note.forum and 'review' in note.content:\n",
    "      reviews.append(get_longest_thread(note, discussion_notes))\n",
    "  return reviews\n",
    "\n",
    "def get_rebuttal_threads(review_threads, discussion_notes):\n",
    "  review_note_ids = [t[0].id for t in review_threads]\n",
    "  rebuttals = []\n",
    "  for note in discussion_notes:\n",
    "    if note.replyto in review_note_ids and 'Authors' in note.signatures[0]:\n",
    "      rebuttals.append(get_longest_thread(note, discussion_notes))\n",
    "  return rebuttals\n",
    "  \n",
    "    \n",
    "\n",
    "review_lens = collections.Counter()\n",
    "rebuttal_lens = collections.Counter()\n",
    "event_list = []\n",
    "for i, forum_note in tqdm.tqdm(enumerate(openreview.tools.iterget_notes(\n",
    "        guest_client, invitation=INVITATION))):\n",
    "  discussion_notes = guest_client.get_notes(forum=forum_note.id)\n",
    "  review_threads = get_review_threads(discussion_notes)\n",
    "  for r in review_threads:\n",
    "    review_lens[len(r)] += 1\n",
    "  rebuttal_threads = get_rebuttal_threads(review_threads, discussion_notes)\n",
    "  for r in rebuttal_threads:\n",
    "    rebuttal_lens[len(r)] += 1\n",
    "\n",
    "print(\"Review lengths (number of notes)\")\n",
    "print(review_lens)\n",
    "print(\"Rebuttal lengths (number of notes)\")\n",
    "print(rebuttal_lens)\n"
   ]
  },
  {
   "cell_type": "code",
   "execution_count": null,
   "id": "239bd81e",
   "metadata": {},
   "outputs": [],
   "source": [
    "\n",
    "    "
   ]
  }
 ],
 "metadata": {
  "kernelspec": {
   "display_name": "Python 3 (ipykernel)",
   "language": "python",
   "name": "python3"
  },
  "language_info": {
   "codemirror_mode": {
    "name": "ipython",
    "version": 3
   },
   "file_extension": ".py",
   "mimetype": "text/x-python",
   "name": "python",
   "nbconvert_exporter": "python",
   "pygments_lexer": "ipython3",
   "version": "3.9.14"
  }
 },
 "nbformat": 4,
 "nbformat_minor": 5
}
