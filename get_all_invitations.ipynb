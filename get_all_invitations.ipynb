{
 "cells": [
  {
   "cell_type": "markdown",
   "id": "3ed227bd",
   "metadata": {},
   "source": [
    "# Get all invitations\n",
    "\n",
    "## Description\n",
    "Get invitations for all venues hosted on OpenReview. You can then use these invitation IDs to get submissions for the different venues, e.g. \n",
    "\n",
    "\n",
    "```\n",
    "for venue_note in openreview.tools.iterget_notes(\n",
    "        guest_client, invitation=invitation.id):\n",
    "  # Do something\n",
    "```\n",
    "\n",
    "Note: Do not pass the whole `Invitation` object to `iterget_notes`; it has to be the id."
   ]
  },
  {
   "cell_type": "code",
   "execution_count": null,
   "id": "40d951ba",
   "metadata": {},
   "outputs": [],
   "source": [
    "import openreview\n",
    "guest_client = openreview.Client(baseurl='https://api.openreview.net')\n",
    "\n",
    "all_new_invitations = guest_client.get_invitations(\n",
    "        regex='.*Blind_Submission',\n",
    "        offset=0, expired=True)\n",
    "\n",
    "# The format for submissions was changed in 2017.\n",
    "all_old_invitations = guest_client.get_invitations(\n",
    "        regex='.*submission',\n",
    "        offset=0, expired=True)"
   ]
  },
  {
   "cell_type": "code",
   "execution_count": null,
   "id": "585d2671",
   "metadata": {},
   "outputs": [],
   "source": [
    "for i, invitation in enumerate(sorted(all_old_invitations+all_new_invitations, key=lambda x:x.id)):\n",
    "    print(str(i) + \"\\t\" + invitation.id)"
   ]
  },
  {
   "cell_type": "code",
   "execution_count": null,
   "id": "4b57d36c",
   "metadata": {},
   "outputs": [],
   "source": []
  }
 ],
 "metadata": {
  "kernelspec": {
   "display_name": "Python 3 (ipykernel)",
   "language": "python",
   "name": "python3"
  },
  "language_info": {
   "codemirror_mode": {
    "name": "ipython",
    "version": 3
   },
   "file_extension": ".py",
   "mimetype": "text/x-python",
   "name": "python",
   "nbconvert_exporter": "python",
   "pygments_lexer": "ipython3",
   "version": "3.8.13"
  }
 },
 "nbformat": 4,
 "nbformat_minor": 5
}
