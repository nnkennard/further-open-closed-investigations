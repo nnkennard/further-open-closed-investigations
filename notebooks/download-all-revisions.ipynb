{
 "cells": [
  {
   "cell_type": "markdown",
   "id": "877a9ba0",
   "metadata": {},
   "source": [
    "# Download all manuscript revisions\n",
    "\n",
    "## Description\n",
    "Given an OpenReview invitation, download pdfs of all its manuscripts, including all their revisions.\n",
    "\n",
    "## Notes\n",
    "* OpenReview allows authors to submit new versions of their manuscripts at various times in the peer review process. As I understand it, some uploads simply overwrite the most recent version, while others are uploaded as official revisions.\n",
    "* By requesting revisions (OpenReview calls them 'references'), we get all uploads officially labeled as revisions by the author at the time of uploading.\n",
    "* You may have to do some kind of rate limiting thing in order to not get in trouble with the OpenReview API. I haven't tested this with `LIMIT > 10`."
   ]
  },
  {
   "cell_type": "code",
   "execution_count": 1,
   "id": "6e4a8f7b",
   "metadata": {},
   "outputs": [],
   "source": [
    "from datetime import datetime\n",
    "import openreview\n",
    "import os\n",
    "import tqdm\n",
    "\n",
    "# Change these values according to your needs\n",
    "INVITATION = 'ICLR.cc/2019/Conference/-/Blind_Submission'\n",
    "OUTPUT_DIR = \"./ICLR2019_pdfs\"\n",
    "LIMIT = 10 # Number of papers to download all revisions for\n",
    "\n",
    "# A client is required for any OpenReview API actions\n",
    "guest_client = openreview.Client(baseurl='https://api.openreview.net')"
   ]
  },
  {
   "cell_type": "code",
   "execution_count": 2,
   "id": "3a78bd19",
   "metadata": {},
   "outputs": [],
   "source": [
    "def get_pdf_filename(forum_dir, timestamp, is_reference):\n",
    "    \"\"\"Produce a filename for the pdf with a human readable timestamp.\n",
    "    \n",
    "        Args:\n",
    "            forum_dir: Directory to write pdfs to\n",
    "            timestamp: Unix timestamp from note.tcdate in OR Note object\n",
    "            is_reference: follows is_reference value of OR API.\n",
    "        \n",
    "        Returns:\n",
    "            pdf filename with timestamps in forum_dir\n",
    "    \"\"\"\n",
    "    nice_timestamp = datetime.fromtimestamp(\n",
    "        timestamp/1000).strftime('%Y-%m-%dT%H_%M_%S') # Something human-readable for the file name\n",
    "    main_or_revision =  \"revision\" if is_reference else 'main'\n",
    "    return f'{forum_dir}/{main_or_revision}_{nice_timestamp}'\n",
    "\n",
    "def write_pdf_to_file(guest_client, forum_dir, note):\n",
    "    \"\"\"Get pdf of manuscript and write to an appropriately named file.\n",
    "        Args:\n",
    "            guest_client: OR API client\n",
    "            forum_dir: Directory to write pdfs to\n",
    "            note: OR API Note object\n",
    "        Returns:\n",
    "            None\n",
    "    \"\"\"\n",
    "    is_reference = note.referent is not None\n",
    "    pdf_binary = guest_client.get_pdf(note.id, is_reference=is_reference)\n",
    "    with open(get_pdf_filename(forum_dir, note.tcdate, is_reference), 'wb') as file_handle:\n",
    "        file_handle.write(pdf_binary)"
   ]
  },
  {
   "cell_type": "code",
   "execution_count": null,
   "id": "43207439",
   "metadata": {},
   "outputs": [
    {
     "name": "stderr",
     "output_type": "stream",
     "text": [
      "Getting revisions for rJl0r3R9KX:  12%|█▋           | 1/8 [00:00<00:01,  4.84it/s]"
     ]
    },
    {
     "name": "stdout",
     "output_type": "stream",
     "text": [
      "rtZtjY_fk9: The Pdf file was not found\n"
     ]
    },
    {
     "name": "stderr",
     "output_type": "stream",
     "text": [
      "Getting revisions for rJl0r3R9KX: 100%|█████████████| 8/8 [00:04<00:00,  1.64it/s]\n",
      "Getting revisions for SylCrnCcFX:  10%|█▏          | 1/10 [00:00<00:01,  4.86it/s]"
     ]
    },
    {
     "name": "stdout",
     "output_type": "stream",
     "text": [
      "rZ4W1cOzJ5: The Pdf file was not found\n"
     ]
    },
    {
     "name": "stderr",
     "output_type": "stream",
     "text": [
      "Getting revisions for SylCrnCcFX: 100%|███████████| 10/10 [00:11<00:00,  1.18s/it]\n",
      "Getting revisions for H1xAH2RqK7:  33%|████▎        | 1/3 [00:00<00:00,  4.60it/s]"
     ]
    },
    {
     "name": "stdout",
     "output_type": "stream",
     "text": [
      "BrBNIO_M15: The Pdf file was not found\n"
     ]
    },
    {
     "name": "stderr",
     "output_type": "stream",
     "text": [
      "Getting revisions for H1xAH2RqK7: 100%|█████████████| 3/3 [00:01<00:00,  2.08it/s]\n",
      "Getting revisions for HJeABnCqKQ:  33%|████▎        | 1/3 [00:00<00:00,  4.91it/s]"
     ]
    },
    {
     "name": "stdout",
     "output_type": "stream",
     "text": [
      "rUqtZ_Ozkc: The Pdf file was not found\n"
     ]
    },
    {
     "name": "stderr",
     "output_type": "stream",
     "text": [
      "Getting revisions for HJeABnCqKQ: 100%|█████████████| 3/3 [00:01<00:00,  1.58it/s]\n",
      "Getting revisions for SyVpB2RqFX:   9%|█           | 1/11 [00:00<00:02,  4.88it/s]"
     ]
    },
    {
     "name": "stdout",
     "output_type": "stream",
     "text": [
      "SVg38GBp3f: The Pdf file was not found\n"
     ]
    },
    {
     "name": "stderr",
     "output_type": "stream",
     "text": [
      "\r",
      "Getting revisions for SyVpB2RqFX:  18%|██▏         | 2/11 [00:00<00:01,  4.82it/s]"
     ]
    },
    {
     "name": "stdout",
     "output_type": "stream",
     "text": [
      "rMfttddzJ9: The Pdf file was not found\n"
     ]
    },
    {
     "name": "stderr",
     "output_type": "stream",
     "text": [
      "Getting revisions for SyVpB2RqFX: 100%|███████████| 11/11 [00:06<00:00,  1.82it/s]\n",
      "Getting revisions for SJf6BhAqK7: 100%|█████████████| 3/3 [00:01<00:00,  1.96it/s]\n",
      "Getting revisions for H1faSn0qY7:  20%|██▌          | 1/5 [00:00<00:00,  4.77it/s]"
     ]
    },
    {
     "name": "stdout",
     "output_type": "stream",
     "text": [
      "r89l_uuG15: The Pdf file was not found\n"
     ]
    },
    {
     "name": "stderr",
     "output_type": "stream",
     "text": [
      "Getting revisions for H1faSn0qY7: 100%|█████████████| 5/5 [00:02<00:00,  2.39it/s]\n",
      "Getting revisions for HJgTHnActQ:  33%|████▎        | 1/3 [00:00<00:00,  4.92it/s]"
     ]
    },
    {
     "name": "stdout",
     "output_type": "stream",
     "text": [
      "BWEBK__f1c: The Pdf file was not found\n"
     ]
    },
    {
     "name": "stderr",
     "output_type": "stream",
     "text": [
      "Getting revisions for HJgTHnActQ: 100%|█████████████| 3/3 [00:02<00:00,  1.10it/s]\n",
      "Getting revisions for HylTBhA5tQ: 100%|███████████| 13/13 [00:06<00:00,  2.15it/s]\n",
      "Getting revisions for B1gTShAct7:   9%|█           | 1/11 [00:00<00:02,  4.90it/s]"
     ]
    },
    {
     "name": "stdout",
     "output_type": "stream",
     "text": [
      "H5zeuuGyc: The Pdf file was not found\n"
     ]
    },
    {
     "name": "stderr",
     "output_type": "stream",
     "text": [
      "Getting revisions for B1gTShAct7: 100%|███████████| 11/11 [00:08<00:00,  1.33it/s]\n",
      "Getting revisions for HJehSnCcFX: 100%|█████████████| 3/3 [00:01<00:00,  1.61it/s]\n",
      "Getting revisions for ryxnHhRqFm:  25%|███▎         | 1/4 [00:00<00:00,  4.89it/s]"
     ]
    }
   ],
   "source": [
    "pdfs_dir = OUTPUT_DIR + \"/\"\n",
    "os.makedirs(pdfs_dir, exist_ok=True)\n",
    "\n",
    "for i, forum_note in enumerate(openreview.tools.iterget_notes(\n",
    "        guest_client, invitation=INVITATION)):\n",
    "    forum_dir = pdfs_dir + forum_note.id\n",
    "    os.makedirs(forum_dir, exist_ok=True)\n",
    "    write_pdf_to_file(guest_client, forum_dir, forum_note)\n",
    "    for revision in tqdm.tqdm(guest_client.get_references(\n",
    "            referent=forum_note.id, original=True),\n",
    "            desc=\"Getting revisions for {0}\".format(forum_note.id)):\n",
    "        try:\n",
    "            write_pdf_to_file(guest_client, forum_dir, revision)\n",
    "        except openreview.OpenReviewException as e:\n",
    "            print(f'{revision.id}: {e.args[0][\"message\"]}')\n",
    "            continue\n",
    "    if i == LIMIT + 1:\n",
    "        break"
   ]
  },
  {
   "cell_type": "code",
   "execution_count": null,
   "id": "8fcf7656",
   "metadata": {},
   "outputs": [],
   "source": []
  }
 ],
 "metadata": {
  "kernelspec": {
   "display_name": "Python 3 (ipykernel)",
   "language": "python",
   "name": "python3"
  },
  "language_info": {
   "codemirror_mode": {
    "name": "ipython",
    "version": 3
   },
   "file_extension": ".py",
   "mimetype": "text/x-python",
   "name": "python",
   "nbconvert_exporter": "python",
   "pygments_lexer": "ipython3",
   "version": "3.9.14"
  }
 },
 "nbformat": 4,
 "nbformat_minor": 5
}
