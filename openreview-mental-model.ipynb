{
 "cells": [
  {
   "cell_type": "markdown",
   "id": "ea667f48",
   "metadata": {},
   "source": [
    "# OpenReview mental model\n",
    "\n",
    "This notebook explores the relations between different notes in OpenReview that represent revisions to manuscripts and comments on the platform. We will follow the details of the paper [Understanding Straight-Through Estimator in Training Activation Quantized Neural Nets](https://openreview.net/forum?id=Skh4jRcKQ). (It's the first paper in the ICLR 2019 forum iterator that has updates to its manuscript.)"
   ]
  },
  {
   "cell_type": "code",
   "execution_count": 49,
   "id": "d8693cdf",
   "metadata": {},
   "outputs": [],
   "source": [
    "# Setup and helpers\n",
    "\n",
    "from datetime import datetime\n",
    "import openreview\n",
    "import pandas as pd\n",
    "\n",
    "guest_client = openreview.Client(baseurl='https://api.openreview.net')\n",
    "\n",
    "FORUM_ID = \"Skh4jRcKQ\"\n",
    "\n",
    "def clean_date(timestamp):\n",
    "  return datetime.fromtimestamp(int(timestamp/1000)).strftime(\"%m/%d/%Y, %H:%M\")"
   ]
  },
  {
   "cell_type": "markdown",
   "id": "aff3f273",
   "metadata": {},
   "source": [
    "## Selecting notes of interest\n",
    "\n",
    "There are a number of notes associated with this forum ID. We distinguish the 'top note', whose note ID is the same as the forum ID.\n",
    "\n",
    "`guest_client.get_notes(forum=FORUM_ID)` retrieves all notes (comments and submissions) associated with this forum."
   ]
  },
  {
   "cell_type": "code",
   "execution_count": 32,
   "id": "48ffeb42",
   "metadata": {},
   "outputs": [
    {
     "name": "stdout",
     "output_type": "stream",
     "text": [
      "Total number of notes including top note:  16\n",
      "Top note id == Top note forum == FORUM_ID:  True\n"
     ]
    }
   ],
   "source": [
    "all_notes = guest_client.get_notes(forum=FORUM_ID)\n",
    "top_note, = [note for note in all_notes if note.id == note.forum] # Exactly one\n",
    "#all_other_notes = [note for note in all_notes if not note.id == note.forum]\n",
    "print(\"Total number of notes including top note: \", len(all_notes))\n",
    "print(\"Top note id == Top note forum == FORUM_ID: \", top_note.id == top_note.forum == FORUM_ID)"
   ]
  },
  {
   "cell_type": "markdown",
   "id": "d0346175",
   "metadata": {},
   "source": [
    "## Getting the pdfs from the forum-level note\n",
    "\n",
    "This note has `id=Skh4jRcKQ` and `original=HkxB3XguKm`. This is because get_notes returns the `BlindSubmission` note. The original note (`HkxB3XguKm`) is the one to which all the PDF revisions are attached.\n",
    "\n",
    "This is explained [here](https://openreview-py.readthedocs.io/en/latest/mental_models.html).\n",
    "\n",
    "To get the different pdfs we have to request references with `original=True`. When we request the revisions of the blind submission, we don't get much. But we get all the PDF revisions when we use the flag `original=True`. This is effectively requesting the references of `HkxB3XguKm` instead of `Skh4jRcKQ`."
   ]
  },
  {
   "cell_type": "code",
   "execution_count": 39,
   "id": "c656323e",
   "metadata": {},
   "outputs": [
    {
     "name": "stdout",
     "output_type": "stream",
     "text": [
      "top_note.id: Skh4jRcKQ\n",
      "top_note.original: HkxB3XguKm\n",
      "Same results retrieved with original=True and original=False:  False\n",
      "Num. results retreived with original=True:  32\n",
      "Num. results retreived with original=False:  1\n"
     ]
    }
   ],
   "source": [
    "print(\"top_note.id:\", top_note.id)\n",
    "print(\"top_note.original:\", top_note.original)\n",
    "\n",
    "# Quick helper function to compare reference lists\n",
    "def get_reference_ids(referent_id, original_flag):\n",
    "  return [x.id for x in guest_client.get_references(referent=referent_id, original=original_flag)]\n",
    "\n",
    "original_true_references = get_reference_ids(top_note.id, True)\n",
    "original_false_references = get_reference_ids(top_note.id, False)\n",
    "print(\"Same results retrieved with original=True and original=False: \", original_true_references == original_false_references)\n",
    "print(\"Num. results retreived with original=True: \", len(original_true_references))\n",
    "print(\"Num. results retreived with original=False: \", len(original_false_references))\n"
   ]
  },
  {
   "cell_type": "markdown",
   "id": "7705e921",
   "metadata": {},
   "source": [
    "## Exploring the original note\n",
    "\n",
    "We will retrieve the original note _id_ into a variable for later use. We cannot retrieve the Note _object_ of the original."
   ]
  },
  {
   "cell_type": "code",
   "execution_count": 40,
   "id": "99c8aee2",
   "metadata": {},
   "outputs": [
    {
     "name": "stdout",
     "output_type": "stream",
     "text": [
      "Could not retrieve a Note object for the top note's original note.\n",
      "Error message:  {'name': 'ForbiddenError', 'message': 'User Guest does not have permission to see Note HkxB3XguKm', 'status': 403, 'details': {'user': 'guest_1666908803345', 'reqId': '2022-10-27-1410388'}}\n"
     ]
    }
   ],
   "source": [
    "top_note_original_id = top_note.original\n",
    "try:\n",
    "  temp = guest_client.get_notes(id=top_note.original)[0]\n",
    "except openreview.OpenReviewException as e:\n",
    "  print(\"Could not retrieve a Note object for the top note's original note.\\nError message: \", e)"
   ]
  },
  {
   "cell_type": "markdown",
   "id": "f6e117f7",
   "metadata": {},
   "source": [
    "**Question**: What is the difference between:\n",
    "```\n",
    "guest_client.get_references(referent=top_note.original, original=False)\n",
    "guest_client.get_references(referent=top_note.id, original=True)\n",
    "```"
   ]
  },
  {
   "cell_type": "code",
   "execution_count": 47,
   "id": "57401983",
   "metadata": {},
   "outputs": [
    {
     "name": "stdout",
     "output_type": "stream",
     "text": [
      "1\n",
      "Skh4jRcKQ HkxB3XguKm\n",
      "32\n",
      "Skh4jRcKQ HkxB3XguKm\n"
     ]
    }
   ],
   "source": [
    "a = guest_client.get_references(referent=top_note.id, original=False)\n",
    "print(len(a))\n",
    "print(a[0].referent, a[0].original)\n",
    "a = guest_client.get_references(referent=top_note.id, original=True)\n",
    "print(len(a))\n",
    "print(a[3].referent, a[3].original)"
   ]
  },
  {
   "cell_type": "markdown",
   "id": "8a529bf9",
   "metadata": {},
   "source": [
    "Also, the following two requests are sometimes equivalent:\n",
    "\n",
    "```\n",
    "guest_client.get_references(referent=note.original, original=True))\n",
    "guest_client.get_references(referent=note.original, original=False))\n",
    "```\n",
    "\n",
    "**Question**: Why? Is it because `HkxB3XguKm` has no original? I can't check because I can't access `HkxB3XguKm`.\n",
    "\n",
    "**Question**: What does it mean for an original note to have a PapersWithCode reference?"
   ]
  },
  {
   "cell_type": "code",
   "execution_count": 33,
   "id": "d67ca285",
   "metadata": {},
   "outputs": [
    {
     "name": "stdout",
     "output_type": "stream",
     "text": [
      "Requesting references with original=True and False for top_note.original (HkxB3XguKm)\n",
      "l0 and l1 equal: True\n",
      "[Note(id = 'SYWVoY_zkq',original = None,number = 619,cdate = 1644493211604,mdate = 1644493211604,tcdate = 1644493211604,tmdate = 1644493211604,ddate = None,content = {'data': '[CIFAR-10](https://paperswithcode.com/dataset/cifar-10), [MNIST](https://paperswithcode.com/dataset/mnist)'},forum = 'HkxB3XguKm',referent = 'HkxB3XguKm',invitation = 'PapersWithCode.com/-/ICLR_2019_Code',replyto = None,readers = ['everyone'],nonreaders = [],signatures = ['PapersWithCode.com'],writers = [],details = {})]\n"
     ]
    }
   ],
   "source": [
    "print(f'Requesting references with original=True and False for top_note.original ({top_note.original})')\n",
    "l0 = [x.id for x in guest_client.get_references(referent=top_note.original, original=True)]\n",
    "l1 = [x.id for x in guest_client.get_references(referent=top_note.original, original=False)]\n",
    "print(\"l0 and l1 equal:\", l0 == l1)"
   ]
  },
  {
   "cell_type": "markdown",
   "id": "1bae9792",
   "metadata": {},
   "source": [
    "# Dates for references to Blind Submission\n",
    "There is just one reference to the blind submission. It has the same creation date, but a later modification date which reflects a 2022 OpenReview PapersWithCode update."
   ]
  },
  {
   "cell_type": "code",
   "execution_count": 7,
   "id": "6ebdb528",
   "metadata": {},
   "outputs": [
    {
     "name": "stdout",
     "output_type": "stream",
     "text": [
      "cdates of top note and reference to top note equal? True\n",
      "tcdates of top note and reference to top note equal True\n",
      "tmdates of top note and reference to top note equal False\n",
      "\n",
      "tmdate of top note:  02/10/2022, 06:40\n",
      "tmdate of reference to top note:  12/20/2018, 20:23\n"
     ]
    }
   ],
   "source": [
    "reference_to_top_note, = list(guest_client.get_references(referent=top_note.id))\n",
    "print('cdates of top note and reference to top note equal?', top_note.cdate == reference_to_top_note.cdate)\n",
    "print('tcdates of top note and reference to top note equal', top_note.tcdate == reference_to_top_note.tcdate)\n",
    "print('tmdates of top note and reference to top note equal', top_note.tmdate == reference_to_top_note.tmdate)\n",
    "print()\n",
    "print('tmdate of top note: ', clean_date(top_note.tmdate) )\n",
    "print('tmdate of reference to top note: ', clean_date(reference_to_top_note.tmdate) )"
   ]
  },
  {
   "cell_type": "markdown",
   "id": "dffa81d3",
   "metadata": {},
   "source": [
    "# Dates for references to original note\n",
    "All the references to the original note have the same cdate, which is in turn the same as the cdate of the blind submission. Each note has a different tcdate and tmdate\n",
    "\n",
    "**Question**: Aren't notes supposed to all have the same tcdate, but different tmdates?"
   ]
  },
  {
   "cell_type": "code",
   "execution_count": 8,
   "id": "2648d9dc",
   "metadata": {},
   "outputs": [
    {
     "name": "stdout",
     "output_type": "stream",
     "text": [
      "Number of unique cdates among references 1\n",
      "Number of unique tcdates among references 32\n",
      "Number of unique tmdates among references 32\n",
      "cdate of references:  09/27/2018, 18:35\n",
      "cdate of top note:  09/27/2018, 18:35\n"
     ]
    }
   ],
   "source": [
    "references_to_top_note = list(guest_client.get_references(referent=top_note.id, original=True))\n",
    "cdates = [ref.cdate for ref in references_to_top_note]\n",
    "tcdates = [ref.tcdate for ref in references_to_top_note]\n",
    "tmdates = [ref.tmdate for ref in references_to_top_note]\n",
    "\n",
    "print(\"Number of unique cdates among references\", len(set(cdates)))\n",
    "print(\"Number of unique tcdates among references\", len(set(tcdates)))\n",
    "print(\"Number of unique tmdates among references\", len(set(tmdates)))\n",
    "\n",
    "print(\"cdate of references: \", clean_date(cdates[0]))\n",
    "print(\"cdate of top note: \", clean_date(top_note.cdate))"
   ]
  },
  {
   "cell_type": "code",
   "execution_count": 23,
   "id": "bc787e19",
   "metadata": {},
   "outputs": [
    {
     "name": "stdout",
     "output_type": "stream",
     "text": [
      "original=True and original=False all returned the same results.\n"
     ]
    }
   ],
   "source": [
    "\n",
    "\n",
    "all_retrievals_same_flag = True\n",
    "for note in guest_client.get_notes(forum=top_note.id):\n",
    "  if note.id == note.forum:\n",
    "    continue\n",
    "  else:\n",
    "    l_true = get_reference_ids(note.id, True)\n",
    "    l_false = get_reference_ids(note.id, False)\n",
    "    if not l_true == l_false:\n",
    "      print(\"Different results retrieving with original=True and original=False.\")\n",
    "      all_retrievals_same_flag = False\n",
    "      break\n",
    "\n",
    "if all_retrievals_same_flag:\n",
    "  print(\"original=True and original=False all returned the same results.\")"
   ]
  },
  {
   "cell_type": "code",
   "execution_count": 30,
   "id": "ad3aff26",
   "metadata": {},
   "outputs": [
    {
     "name": "stdout",
     "output_type": "stream",
     "text": [
      "True 3\n",
      "B100rKh0X Skh4jRcKQ None rkey8cX9hm Skh4jRcKQ\n",
      "S14grK2A7 Skh4jRcKQ None rkey8cX9hm Skh4jRcKQ\n",
      "r1JU9Xq27 Skh4jRcKQ None rkey8cX9hm Skh4jRcKQ\n"
     ]
    }
   ],
   "source": [
    "COMMENT_ID = \"rkey8cX9hm\"\n",
    "temp, = guest_client.get_notes(id=COMMENT_ID)\n",
    "#print(temp)\n",
    "l0 = [x.id for x in guest_client.get_references(referent=COMMENT_ID, original=True)]\n",
    "l1 = [x.id for x in guest_client.get_references(referent=COMMENT_ID, original=False)]\n",
    "print(l0==l1, len(l0))\n",
    "#print(temp)\n",
    "for reference in  guest_client.get_references(referent=COMMENT_ID):\n",
    "  print(reference.id, reference.replyto, reference.original, reference.referent, reference.forum)\n",
    "  #print(reference)"
   ]
  },
  {
   "cell_type": "code",
   "execution_count": 50,
   "id": "7cd70aef",
   "metadata": {},
   "outputs": [
    {
     "data": {
      "text/html": [
       "<div>\n",
       "<style scoped>\n",
       "    .dataframe tbody tr th:only-of-type {\n",
       "        vertical-align: middle;\n",
       "    }\n",
       "\n",
       "    .dataframe tbody tr th {\n",
       "        vertical-align: top;\n",
       "    }\n",
       "\n",
       "    .dataframe thead th {\n",
       "        text-align: right;\n",
       "    }\n",
       "</style>\n",
       "<table border=\"1\" class=\"dataframe\">\n",
       "  <thead>\n",
       "    <tr style=\"text-align: right;\">\n",
       "      <th></th>\n",
       "      <th>referent</th>\n",
       "      <th>original_flag</th>\n",
       "      <th>id</th>\n",
       "      <th>original</th>\n",
       "      <th>referent_value</th>\n",
       "    </tr>\n",
       "  </thead>\n",
       "  <tbody>\n",
       "    <tr>\n",
       "      <th>0</th>\n",
       "      <td>Skh4jRcKQ</td>\n",
       "      <td>True</td>\n",
       "      <td>SYWVoY_zkq</td>\n",
       "      <td>HkxB3XguKm</td>\n",
       "      <td>Skh4jRcKQ</td>\n",
       "    </tr>\n",
       "    <tr>\n",
       "      <th>1</th>\n",
       "      <td>Skh4jRcKQ</td>\n",
       "      <td>True</td>\n",
       "      <td>BJd8HgFvS</td>\n",
       "      <td>HkxB3XguKm</td>\n",
       "      <td>Skh4jRcKQ</td>\n",
       "    </tr>\n",
       "    <tr>\n",
       "      <th>2</th>\n",
       "      <td>Skh4jRcKQ</td>\n",
       "      <td>True</td>\n",
       "      <td>SJgOppV24</td>\n",
       "      <td>HkxB3XguKm</td>\n",
       "      <td>Skh4jRcKQ</td>\n",
       "    </tr>\n",
       "    <tr>\n",
       "      <th>3</th>\n",
       "      <td>Skh4jRcKQ</td>\n",
       "      <td>True</td>\n",
       "      <td>SyQCYkbhN</td>\n",
       "      <td>HkxB3XguKm</td>\n",
       "      <td>Skh4jRcKQ</td>\n",
       "    </tr>\n",
       "    <tr>\n",
       "      <th>4</th>\n",
       "      <td>Skh4jRcKQ</td>\n",
       "      <td>True</td>\n",
       "      <td>SkKbD1-nE</td>\n",
       "      <td>HkxB3XguKm</td>\n",
       "      <td>Skh4jRcKQ</td>\n",
       "    </tr>\n",
       "    <tr>\n",
       "      <th>5</th>\n",
       "      <td>Skh4jRcKQ</td>\n",
       "      <td>True</td>\n",
       "      <td>HJC0wMdoV</td>\n",
       "      <td>HkxB3XguKm</td>\n",
       "      <td>Skh4jRcKQ</td>\n",
       "    </tr>\n",
       "    <tr>\n",
       "      <th>6</th>\n",
       "      <td>Skh4jRcKQ</td>\n",
       "      <td>True</td>\n",
       "      <td>ByHQ568wE</td>\n",
       "      <td>HkxB3XguKm</td>\n",
       "      <td>Skh4jRcKQ</td>\n",
       "    </tr>\n",
       "    <tr>\n",
       "      <th>7</th>\n",
       "      <td>Skh4jRcKQ</td>\n",
       "      <td>True</td>\n",
       "      <td>Hk80Ya8DN</td>\n",
       "      <td>HkxB3XguKm</td>\n",
       "      <td>Skh4jRcKQ</td>\n",
       "    </tr>\n",
       "    <tr>\n",
       "      <th>8</th>\n",
       "      <td>Skh4jRcKQ</td>\n",
       "      <td>True</td>\n",
       "      <td>BkLEP_mUV</td>\n",
       "      <td>HkxB3XguKm</td>\n",
       "      <td>Skh4jRcKQ</td>\n",
       "    </tr>\n",
       "    <tr>\n",
       "      <th>9</th>\n",
       "      <td>Skh4jRcKQ</td>\n",
       "      <td>True</td>\n",
       "      <td>SyeajMtE4</td>\n",
       "      <td>HkxB3XguKm</td>\n",
       "      <td>Skh4jRcKQ</td>\n",
       "    </tr>\n",
       "    <tr>\n",
       "      <th>10</th>\n",
       "      <td>Skh4jRcKQ</td>\n",
       "      <td>True</td>\n",
       "      <td>S1VOTrfVV</td>\n",
       "      <td>HkxB3XguKm</td>\n",
       "      <td>Skh4jRcKQ</td>\n",
       "    </tr>\n",
       "    <tr>\n",
       "      <th>11</th>\n",
       "      <td>Skh4jRcKQ</td>\n",
       "      <td>True</td>\n",
       "      <td>BynsU-y7E</td>\n",
       "      <td>HkxB3XguKm</td>\n",
       "      <td>Skh4jRcKQ</td>\n",
       "    </tr>\n",
       "    <tr>\n",
       "      <th>12</th>\n",
       "      <td>Skh4jRcKQ</td>\n",
       "      <td>True</td>\n",
       "      <td>SyQIi3RzV</td>\n",
       "      <td>HkxB3XguKm</td>\n",
       "      <td>Skh4jRcKQ</td>\n",
       "    </tr>\n",
       "    <tr>\n",
       "      <th>13</th>\n",
       "      <td>Skh4jRcKQ</td>\n",
       "      <td>True</td>\n",
       "      <td>S1Rl4g3GN</td>\n",
       "      <td>HkxB3XguKm</td>\n",
       "      <td>Skh4jRcKQ</td>\n",
       "    </tr>\n",
       "    <tr>\n",
       "      <th>14</th>\n",
       "      <td>Skh4jRcKQ</td>\n",
       "      <td>True</td>\n",
       "      <td>HJ984ejGN</td>\n",
       "      <td>HkxB3XguKm</td>\n",
       "      <td>Skh4jRcKQ</td>\n",
       "    </tr>\n",
       "    <tr>\n",
       "      <th>15</th>\n",
       "      <td>Skh4jRcKQ</td>\n",
       "      <td>True</td>\n",
       "      <td>Sy_N8OxGE</td>\n",
       "      <td>HkxB3XguKm</td>\n",
       "      <td>Skh4jRcKQ</td>\n",
       "    </tr>\n",
       "    <tr>\n",
       "      <th>16</th>\n",
       "      <td>Skh4jRcKQ</td>\n",
       "      <td>True</td>\n",
       "      <td>SJpMxPgzV</td>\n",
       "      <td>HkxB3XguKm</td>\n",
       "      <td>Skh4jRcKQ</td>\n",
       "    </tr>\n",
       "    <tr>\n",
       "      <th>17</th>\n",
       "      <td>Skh4jRcKQ</td>\n",
       "      <td>True</td>\n",
       "      <td>SkAhRIgzN</td>\n",
       "      <td>HkxB3XguKm</td>\n",
       "      <td>Skh4jRcKQ</td>\n",
       "    </tr>\n",
       "    <tr>\n",
       "      <th>18</th>\n",
       "      <td>Skh4jRcKQ</td>\n",
       "      <td>True</td>\n",
       "      <td>rkCsTUgM4</td>\n",
       "      <td>HkxB3XguKm</td>\n",
       "      <td>Skh4jRcKQ</td>\n",
       "    </tr>\n",
       "    <tr>\n",
       "      <th>19</th>\n",
       "      <td>Skh4jRcKQ</td>\n",
       "      <td>True</td>\n",
       "      <td>HyFJpIlzN</td>\n",
       "      <td>HkxB3XguKm</td>\n",
       "      <td>Skh4jRcKQ</td>\n",
       "    </tr>\n",
       "    <tr>\n",
       "      <th>20</th>\n",
       "      <td>Skh4jRcKQ</td>\n",
       "      <td>True</td>\n",
       "      <td>rJ7TsIxGE</td>\n",
       "      <td>HkxB3XguKm</td>\n",
       "      <td>Skh4jRcKQ</td>\n",
       "    </tr>\n",
       "    <tr>\n",
       "      <th>21</th>\n",
       "      <td>Skh4jRcKQ</td>\n",
       "      <td>True</td>\n",
       "      <td>SJp9SLxGV</td>\n",
       "      <td>HkxB3XguKm</td>\n",
       "      <td>Skh4jRcKQ</td>\n",
       "    </tr>\n",
       "    <tr>\n",
       "      <th>22</th>\n",
       "      <td>Skh4jRcKQ</td>\n",
       "      <td>True</td>\n",
       "      <td>HJb8ESlfN</td>\n",
       "      <td>HkxB3XguKm</td>\n",
       "      <td>Skh4jRcKQ</td>\n",
       "    </tr>\n",
       "    <tr>\n",
       "      <th>23</th>\n",
       "      <td>Skh4jRcKQ</td>\n",
       "      <td>True</td>\n",
       "      <td>Hyhv6GezN</td>\n",
       "      <td>HkxB3XguKm</td>\n",
       "      <td>Skh4jRcKQ</td>\n",
       "    </tr>\n",
       "    <tr>\n",
       "      <th>24</th>\n",
       "      <td>Skh4jRcKQ</td>\n",
       "      <td>True</td>\n",
       "      <td>SJ9TkV1GN</td>\n",
       "      <td>HkxB3XguKm</td>\n",
       "      <td>Skh4jRcKQ</td>\n",
       "    </tr>\n",
       "    <tr>\n",
       "      <th>25</th>\n",
       "      <td>Skh4jRcKQ</td>\n",
       "      <td>True</td>\n",
       "      <td>BkWvJVJMV</td>\n",
       "      <td>HkxB3XguKm</td>\n",
       "      <td>Skh4jRcKQ</td>\n",
       "    </tr>\n",
       "    <tr>\n",
       "      <th>26</th>\n",
       "      <td>Skh4jRcKQ</td>\n",
       "      <td>True</td>\n",
       "      <td>HkTZA71f4</td>\n",
       "      <td>HkxB3XguKm</td>\n",
       "      <td>Skh4jRcKQ</td>\n",
       "    </tr>\n",
       "    <tr>\n",
       "      <th>27</th>\n",
       "      <td>Skh4jRcKQ</td>\n",
       "      <td>True</td>\n",
       "      <td>BJTwpXkGE</td>\n",
       "      <td>HkxB3XguKm</td>\n",
       "      <td>Skh4jRcKQ</td>\n",
       "    </tr>\n",
       "    <tr>\n",
       "      <th>28</th>\n",
       "      <td>Skh4jRcKQ</td>\n",
       "      <td>True</td>\n",
       "      <td>By_GSe507</td>\n",
       "      <td>HkxB3XguKm</td>\n",
       "      <td>Skh4jRcKQ</td>\n",
       "    </tr>\n",
       "    <tr>\n",
       "      <th>29</th>\n",
       "      <td>Skh4jRcKQ</td>\n",
       "      <td>True</td>\n",
       "      <td>SkHnK3l0X</td>\n",
       "      <td>HkxB3XguKm</td>\n",
       "      <td>Skh4jRcKQ</td>\n",
       "    </tr>\n",
       "    <tr>\n",
       "      <th>30</th>\n",
       "      <td>Skh4jRcKQ</td>\n",
       "      <td>True</td>\n",
       "      <td>SyA-_9CTX</td>\n",
       "      <td>HkxB3XguKm</td>\n",
       "      <td>Skh4jRcKQ</td>\n",
       "    </tr>\n",
       "    <tr>\n",
       "      <th>31</th>\n",
       "      <td>Skh4jRcKQ</td>\n",
       "      <td>True</td>\n",
       "      <td>B1BnmldK7</td>\n",
       "      <td>HkxB3XguKm</td>\n",
       "      <td>Skh4jRcKQ</td>\n",
       "    </tr>\n",
       "    <tr>\n",
       "      <th>32</th>\n",
       "      <td>Skh4jRcKQ</td>\n",
       "      <td>False</td>\n",
       "      <td>BJoEsC5tm</td>\n",
       "      <td>HkxB3XguKm</td>\n",
       "      <td>Skh4jRcKQ</td>\n",
       "    </tr>\n",
       "    <tr>\n",
       "      <th>33</th>\n",
       "      <td>HkxB3XguKm</td>\n",
       "      <td>True</td>\n",
       "      <td>SYWVoY_zkq</td>\n",
       "      <td>None</td>\n",
       "      <td>HkxB3XguKm</td>\n",
       "    </tr>\n",
       "    <tr>\n",
       "      <th>34</th>\n",
       "      <td>HkxB3XguKm</td>\n",
       "      <td>False</td>\n",
       "      <td>SYWVoY_zkq</td>\n",
       "      <td>None</td>\n",
       "      <td>HkxB3XguKm</td>\n",
       "    </tr>\n",
       "  </tbody>\n",
       "</table>\n",
       "</div>"
      ],
      "text/plain": [
       "      referent original_flag          id    original referent_value\n",
       "0    Skh4jRcKQ          True  SYWVoY_zkq  HkxB3XguKm      Skh4jRcKQ\n",
       "1    Skh4jRcKQ          True   BJd8HgFvS  HkxB3XguKm      Skh4jRcKQ\n",
       "2    Skh4jRcKQ          True   SJgOppV24  HkxB3XguKm      Skh4jRcKQ\n",
       "3    Skh4jRcKQ          True   SyQCYkbhN  HkxB3XguKm      Skh4jRcKQ\n",
       "4    Skh4jRcKQ          True   SkKbD1-nE  HkxB3XguKm      Skh4jRcKQ\n",
       "5    Skh4jRcKQ          True   HJC0wMdoV  HkxB3XguKm      Skh4jRcKQ\n",
       "6    Skh4jRcKQ          True   ByHQ568wE  HkxB3XguKm      Skh4jRcKQ\n",
       "7    Skh4jRcKQ          True   Hk80Ya8DN  HkxB3XguKm      Skh4jRcKQ\n",
       "8    Skh4jRcKQ          True   BkLEP_mUV  HkxB3XguKm      Skh4jRcKQ\n",
       "9    Skh4jRcKQ          True   SyeajMtE4  HkxB3XguKm      Skh4jRcKQ\n",
       "10   Skh4jRcKQ          True   S1VOTrfVV  HkxB3XguKm      Skh4jRcKQ\n",
       "11   Skh4jRcKQ          True   BynsU-y7E  HkxB3XguKm      Skh4jRcKQ\n",
       "12   Skh4jRcKQ          True   SyQIi3RzV  HkxB3XguKm      Skh4jRcKQ\n",
       "13   Skh4jRcKQ          True   S1Rl4g3GN  HkxB3XguKm      Skh4jRcKQ\n",
       "14   Skh4jRcKQ          True   HJ984ejGN  HkxB3XguKm      Skh4jRcKQ\n",
       "15   Skh4jRcKQ          True   Sy_N8OxGE  HkxB3XguKm      Skh4jRcKQ\n",
       "16   Skh4jRcKQ          True   SJpMxPgzV  HkxB3XguKm      Skh4jRcKQ\n",
       "17   Skh4jRcKQ          True   SkAhRIgzN  HkxB3XguKm      Skh4jRcKQ\n",
       "18   Skh4jRcKQ          True   rkCsTUgM4  HkxB3XguKm      Skh4jRcKQ\n",
       "19   Skh4jRcKQ          True   HyFJpIlzN  HkxB3XguKm      Skh4jRcKQ\n",
       "20   Skh4jRcKQ          True   rJ7TsIxGE  HkxB3XguKm      Skh4jRcKQ\n",
       "21   Skh4jRcKQ          True   SJp9SLxGV  HkxB3XguKm      Skh4jRcKQ\n",
       "22   Skh4jRcKQ          True   HJb8ESlfN  HkxB3XguKm      Skh4jRcKQ\n",
       "23   Skh4jRcKQ          True   Hyhv6GezN  HkxB3XguKm      Skh4jRcKQ\n",
       "24   Skh4jRcKQ          True   SJ9TkV1GN  HkxB3XguKm      Skh4jRcKQ\n",
       "25   Skh4jRcKQ          True   BkWvJVJMV  HkxB3XguKm      Skh4jRcKQ\n",
       "26   Skh4jRcKQ          True   HkTZA71f4  HkxB3XguKm      Skh4jRcKQ\n",
       "27   Skh4jRcKQ          True   BJTwpXkGE  HkxB3XguKm      Skh4jRcKQ\n",
       "28   Skh4jRcKQ          True   By_GSe507  HkxB3XguKm      Skh4jRcKQ\n",
       "29   Skh4jRcKQ          True   SkHnK3l0X  HkxB3XguKm      Skh4jRcKQ\n",
       "30   Skh4jRcKQ          True   SyA-_9CTX  HkxB3XguKm      Skh4jRcKQ\n",
       "31   Skh4jRcKQ          True   B1BnmldK7  HkxB3XguKm      Skh4jRcKQ\n",
       "32   Skh4jRcKQ         False   BJoEsC5tm  HkxB3XguKm      Skh4jRcKQ\n",
       "33  HkxB3XguKm          True  SYWVoY_zkq        None     HkxB3XguKm\n",
       "34  HkxB3XguKm         False  SYWVoY_zkq        None     HkxB3XguKm"
      ]
     },
     "execution_count": 50,
     "metadata": {},
     "output_type": "execute_result"
    }
   ],
   "source": [
    "dicts = []\n",
    "for referent in [top_note.id, top_note.original]:\n",
    "  for original_flag in [True, False]:\n",
    "    for reference in guest_client.get_references(referent=referent, original=original_flag):\n",
    "      dicts.append({\n",
    "        \"referent\": referent,\n",
    "        \"original_flag\": str(original_flag),\n",
    "        \"id\": reference.id,\n",
    "        \"original\": reference.original,\n",
    "        \"referent_value\": reference.referent\n",
    "      })\n",
    "      \n",
    "pd.DataFrame.from_dict(dicts)"
   ]
  },
  {
   "cell_type": "markdown",
   "id": "283e379e",
   "metadata": {},
   "source": [
    "## Some questions about the above table\n",
    "\n",
    "* How can we distinguish between, say, `B1BnmldK7` (31) and `BJoEsC5tm` (32)? Both of them have the same value for referent and for original. But one is only retrieved when original is `False`, and the other only when original is `True`.\n",
    "* I would expect that calling get_references with top_note.id and original=True should be equivalent to calling it with top_note.original and original=False. i.e. setting the original flag causes references to the original to be retrieved instead. However, the latter case is shown in 34.\n",
    "  * What does it mean to be a reference to the original note?\n",
    "  * Why are lines 33 and 34 equivalent? Is it because `SYWVoY_zkq` does not have an original value? I cannot check this because I do not have access to the note `SYWVoY_zkq`, see below.\n",
    "  * What distinguishes, say, `BJd8HgFvS` (2) from `SYWVoY_zkq` (1)?\n",
    "    * `SYWVoY_zkq` is also retrieved in two other cases (33, 34), but I can't access `BJd8HgFvS`."
   ]
  }
 ],
 "metadata": {
  "kernelspec": {
   "display_name": "Python 3 (ipykernel)",
   "language": "python",
   "name": "python3"
  },
  "language_info": {
   "codemirror_mode": {
    "name": "ipython",
    "version": 3
   },
   "file_extension": ".py",
   "mimetype": "text/x-python",
   "name": "python",
   "nbconvert_exporter": "python",
   "pygments_lexer": "ipython3",
   "version": "3.9.14"
  }
 },
 "nbformat": 4,
 "nbformat_minor": 5
}
